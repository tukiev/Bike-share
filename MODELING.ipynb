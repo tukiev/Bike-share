{
  "cells": [
    {
      "cell_type": "markdown",
      "metadata": {
        "id": "euc06hZ6GFWb"
      },
      "source": [
        "# MODELING - BIKE SHARE SYSTEM ANALYSIS "
      ]
    },
    {
      "cell_type": "markdown",
      "metadata": {
        "id": "WIxNWlzSGFWd"
      },
      "source": [
        "Load library packages"
      ]
    },
    {
      "cell_type": "code",
      "execution_count": 1,
      "metadata": {
        "colab": {
          "base_uri": "https://localhost:8080/",
          "height": 0
        },
        "id": "ZIOPNQ5cGFWe",
        "outputId": "e25a26fc-82a8-4a50-f385-db4dbf338b3a"
      },
      "outputs": [],
      "source": [
        "import numpy as np\n",
        "import pandas as pd\n",
        "import matplotlib.pyplot as plt\n",
        "%matplotlib inline\n",
        "import seaborn as sns\n",
        "import matplotlib.pylab as plt\n",
        "from sklearn.model_selection import train_test_split, GridSearchCV\n",
        "from sklearn.linear_model import LinearRegression\n",
        "from sklearn.preprocessing import PolynomialFeatures\n",
        "from sklearn.metrics import accuracy_score, mean_squared_error,r2_score\n",
        "import matplotlib.pylab as plt\n",
        "from sklearn.ensemble import RandomForestRegressor\n",
        "from sklearn.ensemble import GradientBoostingRegressor\n",
        "from statsmodels.tsa import tsatools\n",
        "from dmba import regressionSummary\n",
        "from dmba import adjusted_r2_score"
      ]
    },
    {
      "cell_type": "markdown",
      "metadata": {
        "id": "S3TZ8h3iGFWg"
      },
      "source": [
        "Load dataset"
      ]
    },
    {
      "cell_type": "code",
      "execution_count": 2,
      "metadata": {
        "colab": {
          "base_uri": "https://localhost:8080/",
          "height": 424
        },
        "id": "6IRxFlbKGFWg",
        "outputId": "6e152577-37bc-44ca-acec-47f91c7d45e6"
      },
      "outputs": [
        {
          "data": {
            "text/html": [
              "<div>\n",
              "<style scoped>\n",
              "    .dataframe tbody tr th:only-of-type {\n",
              "        vertical-align: middle;\n",
              "    }\n",
              "\n",
              "    .dataframe tbody tr th {\n",
              "        vertical-align: top;\n",
              "    }\n",
              "\n",
              "    .dataframe thead th {\n",
              "        text-align: right;\n",
              "    }\n",
              "</style>\n",
              "<table border=\"1\" class=\"dataframe\">\n",
              "  <thead>\n",
              "    <tr style=\"text-align: right;\">\n",
              "      <th></th>\n",
              "      <th>instant</th>\n",
              "      <th>dteday</th>\n",
              "      <th>season</th>\n",
              "      <th>yr</th>\n",
              "      <th>mnth</th>\n",
              "      <th>hr</th>\n",
              "      <th>holiday</th>\n",
              "      <th>weekday</th>\n",
              "      <th>workingday</th>\n",
              "      <th>weathersit</th>\n",
              "      <th>temp</th>\n",
              "      <th>atemp</th>\n",
              "      <th>hum</th>\n",
              "      <th>windspeed</th>\n",
              "      <th>casual</th>\n",
              "      <th>registered</th>\n",
              "      <th>cnt</th>\n",
              "    </tr>\n",
              "  </thead>\n",
              "  <tbody>\n",
              "    <tr>\n",
              "      <th>0</th>\n",
              "      <td>1</td>\n",
              "      <td>1/1/2011</td>\n",
              "      <td>1</td>\n",
              "      <td>0</td>\n",
              "      <td>1</td>\n",
              "      <td>0</td>\n",
              "      <td>0</td>\n",
              "      <td>6</td>\n",
              "      <td>0</td>\n",
              "      <td>1</td>\n",
              "      <td>0.24</td>\n",
              "      <td>0.2879</td>\n",
              "      <td>0.81</td>\n",
              "      <td>0.0</td>\n",
              "      <td>3</td>\n",
              "      <td>13</td>\n",
              "      <td>16</td>\n",
              "    </tr>\n",
              "    <tr>\n",
              "      <th>1</th>\n",
              "      <td>2</td>\n",
              "      <td>1/1/2011</td>\n",
              "      <td>1</td>\n",
              "      <td>0</td>\n",
              "      <td>1</td>\n",
              "      <td>1</td>\n",
              "      <td>0</td>\n",
              "      <td>6</td>\n",
              "      <td>0</td>\n",
              "      <td>1</td>\n",
              "      <td>0.22</td>\n",
              "      <td>0.2727</td>\n",
              "      <td>0.80</td>\n",
              "      <td>0.0</td>\n",
              "      <td>8</td>\n",
              "      <td>32</td>\n",
              "      <td>40</td>\n",
              "    </tr>\n",
              "    <tr>\n",
              "      <th>2</th>\n",
              "      <td>3</td>\n",
              "      <td>1/1/2011</td>\n",
              "      <td>1</td>\n",
              "      <td>0</td>\n",
              "      <td>1</td>\n",
              "      <td>2</td>\n",
              "      <td>0</td>\n",
              "      <td>6</td>\n",
              "      <td>0</td>\n",
              "      <td>1</td>\n",
              "      <td>0.22</td>\n",
              "      <td>0.2727</td>\n",
              "      <td>0.80</td>\n",
              "      <td>0.0</td>\n",
              "      <td>5</td>\n",
              "      <td>27</td>\n",
              "      <td>32</td>\n",
              "    </tr>\n",
              "    <tr>\n",
              "      <th>3</th>\n",
              "      <td>4</td>\n",
              "      <td>1/1/2011</td>\n",
              "      <td>1</td>\n",
              "      <td>0</td>\n",
              "      <td>1</td>\n",
              "      <td>3</td>\n",
              "      <td>0</td>\n",
              "      <td>6</td>\n",
              "      <td>0</td>\n",
              "      <td>1</td>\n",
              "      <td>0.24</td>\n",
              "      <td>0.2879</td>\n",
              "      <td>0.75</td>\n",
              "      <td>0.0</td>\n",
              "      <td>3</td>\n",
              "      <td>10</td>\n",
              "      <td>13</td>\n",
              "    </tr>\n",
              "    <tr>\n",
              "      <th>4</th>\n",
              "      <td>5</td>\n",
              "      <td>1/1/2011</td>\n",
              "      <td>1</td>\n",
              "      <td>0</td>\n",
              "      <td>1</td>\n",
              "      <td>4</td>\n",
              "      <td>0</td>\n",
              "      <td>6</td>\n",
              "      <td>0</td>\n",
              "      <td>1</td>\n",
              "      <td>0.24</td>\n",
              "      <td>0.2879</td>\n",
              "      <td>0.75</td>\n",
              "      <td>0.0</td>\n",
              "      <td>0</td>\n",
              "      <td>1</td>\n",
              "      <td>1</td>\n",
              "    </tr>\n",
              "  </tbody>\n",
              "</table>\n",
              "</div>"
            ],
            "text/plain": [
              "   instant    dteday  season  yr  mnth  hr  holiday  weekday  workingday  \\\n",
              "0        1  1/1/2011       1   0     1   0        0        6           0   \n",
              "1        2  1/1/2011       1   0     1   1        0        6           0   \n",
              "2        3  1/1/2011       1   0     1   2        0        6           0   \n",
              "3        4  1/1/2011       1   0     1   3        0        6           0   \n",
              "4        5  1/1/2011       1   0     1   4        0        6           0   \n",
              "\n",
              "   weathersit  temp   atemp   hum  windspeed  casual  registered  cnt  \n",
              "0           1  0.24  0.2879  0.81        0.0       3          13   16  \n",
              "1           1  0.22  0.2727  0.80        0.0       8          32   40  \n",
              "2           1  0.22  0.2727  0.80        0.0       5          27   32  \n",
              "3           1  0.24  0.2879  0.75        0.0       3          10   13  \n",
              "4           1  0.24  0.2879  0.75        0.0       0           1    1  "
            ]
          },
          "execution_count": 2,
          "metadata": {},
          "output_type": "execute_result"
        }
      ],
      "source": [
        "hour_df=pd.read_csv('hour.csv')\n",
        "hour_df.head()"
      ]
    },
    {
      "cell_type": "markdown",
      "metadata": {
        "id": "_sThdzllGFWh"
      },
      "source": [
        "Rename some column names of the dataset "
      ]
    },
    {
      "cell_type": "code",
      "execution_count": 3,
      "metadata": {
        "id": "-hzKN3KFGFWi"
      },
      "outputs": [],
      "source": [
        "hour_df = hour_df.rename(columns={'weathersit':'weather_situation',\n",
        "                       'yr':'year',\n",
        "                       'mnth':'month',\n",
        "                       'hr':'hour',\n",
        "                       'hum':'humidity',\n",
        "                       'cnt':'count'})"
      ]
    },
    {
      "cell_type": "code",
      "execution_count": 4,
      "metadata": {
        "colab": {
          "base_uri": "https://localhost:8080/",
          "height": 270
        },
        "id": "zYpl_XgYGFWj",
        "outputId": "046b9aa7-4521-4a95-fbc6-752dce581d41"
      },
      "outputs": [
        {
          "data": {
            "text/html": [
              "<div>\n",
              "<style scoped>\n",
              "    .dataframe tbody tr th:only-of-type {\n",
              "        vertical-align: middle;\n",
              "    }\n",
              "\n",
              "    .dataframe tbody tr th {\n",
              "        vertical-align: top;\n",
              "    }\n",
              "\n",
              "    .dataframe thead th {\n",
              "        text-align: right;\n",
              "    }\n",
              "</style>\n",
              "<table border=\"1\" class=\"dataframe\">\n",
              "  <thead>\n",
              "    <tr style=\"text-align: right;\">\n",
              "      <th></th>\n",
              "      <th>instant</th>\n",
              "      <th>dteday</th>\n",
              "      <th>season</th>\n",
              "      <th>year</th>\n",
              "      <th>month</th>\n",
              "      <th>hour</th>\n",
              "      <th>holiday</th>\n",
              "      <th>weekday</th>\n",
              "      <th>workingday</th>\n",
              "      <th>weather_situation</th>\n",
              "      <th>temp</th>\n",
              "      <th>atemp</th>\n",
              "      <th>humidity</th>\n",
              "      <th>windspeed</th>\n",
              "      <th>casual</th>\n",
              "      <th>registered</th>\n",
              "      <th>count</th>\n",
              "    </tr>\n",
              "  </thead>\n",
              "  <tbody>\n",
              "    <tr>\n",
              "      <th>0</th>\n",
              "      <td>1</td>\n",
              "      <td>1/1/2011</td>\n",
              "      <td>1</td>\n",
              "      <td>0</td>\n",
              "      <td>1</td>\n",
              "      <td>0</td>\n",
              "      <td>0</td>\n",
              "      <td>6</td>\n",
              "      <td>0</td>\n",
              "      <td>1</td>\n",
              "      <td>0.24</td>\n",
              "      <td>0.2879</td>\n",
              "      <td>0.81</td>\n",
              "      <td>0.0</td>\n",
              "      <td>3</td>\n",
              "      <td>13</td>\n",
              "      <td>16</td>\n",
              "    </tr>\n",
              "    <tr>\n",
              "      <th>1</th>\n",
              "      <td>2</td>\n",
              "      <td>1/1/2011</td>\n",
              "      <td>1</td>\n",
              "      <td>0</td>\n",
              "      <td>1</td>\n",
              "      <td>1</td>\n",
              "      <td>0</td>\n",
              "      <td>6</td>\n",
              "      <td>0</td>\n",
              "      <td>1</td>\n",
              "      <td>0.22</td>\n",
              "      <td>0.2727</td>\n",
              "      <td>0.80</td>\n",
              "      <td>0.0</td>\n",
              "      <td>8</td>\n",
              "      <td>32</td>\n",
              "      <td>40</td>\n",
              "    </tr>\n",
              "    <tr>\n",
              "      <th>2</th>\n",
              "      <td>3</td>\n",
              "      <td>1/1/2011</td>\n",
              "      <td>1</td>\n",
              "      <td>0</td>\n",
              "      <td>1</td>\n",
              "      <td>2</td>\n",
              "      <td>0</td>\n",
              "      <td>6</td>\n",
              "      <td>0</td>\n",
              "      <td>1</td>\n",
              "      <td>0.22</td>\n",
              "      <td>0.2727</td>\n",
              "      <td>0.80</td>\n",
              "      <td>0.0</td>\n",
              "      <td>5</td>\n",
              "      <td>27</td>\n",
              "      <td>32</td>\n",
              "    </tr>\n",
              "    <tr>\n",
              "      <th>3</th>\n",
              "      <td>4</td>\n",
              "      <td>1/1/2011</td>\n",
              "      <td>1</td>\n",
              "      <td>0</td>\n",
              "      <td>1</td>\n",
              "      <td>3</td>\n",
              "      <td>0</td>\n",
              "      <td>6</td>\n",
              "      <td>0</td>\n",
              "      <td>1</td>\n",
              "      <td>0.24</td>\n",
              "      <td>0.2879</td>\n",
              "      <td>0.75</td>\n",
              "      <td>0.0</td>\n",
              "      <td>3</td>\n",
              "      <td>10</td>\n",
              "      <td>13</td>\n",
              "    </tr>\n",
              "    <tr>\n",
              "      <th>4</th>\n",
              "      <td>5</td>\n",
              "      <td>1/1/2011</td>\n",
              "      <td>1</td>\n",
              "      <td>0</td>\n",
              "      <td>1</td>\n",
              "      <td>4</td>\n",
              "      <td>0</td>\n",
              "      <td>6</td>\n",
              "      <td>0</td>\n",
              "      <td>1</td>\n",
              "      <td>0.24</td>\n",
              "      <td>0.2879</td>\n",
              "      <td>0.75</td>\n",
              "      <td>0.0</td>\n",
              "      <td>0</td>\n",
              "      <td>1</td>\n",
              "      <td>1</td>\n",
              "    </tr>\n",
              "  </tbody>\n",
              "</table>\n",
              "</div>"
            ],
            "text/plain": [
              "   instant    dteday  season  year  month  hour  holiday  weekday  workingday  \\\n",
              "0        1  1/1/2011       1     0      1     0        0        6           0   \n",
              "1        2  1/1/2011       1     0      1     1        0        6           0   \n",
              "2        3  1/1/2011       1     0      1     2        0        6           0   \n",
              "3        4  1/1/2011       1     0      1     3        0        6           0   \n",
              "4        5  1/1/2011       1     0      1     4        0        6           0   \n",
              "\n",
              "   weather_situation  temp   atemp  humidity  windspeed  casual  registered  \\\n",
              "0                  1  0.24  0.2879      0.81        0.0       3          13   \n",
              "1                  1  0.22  0.2727      0.80        0.0       8          32   \n",
              "2                  1  0.22  0.2727      0.80        0.0       5          27   \n",
              "3                  1  0.24  0.2879      0.75        0.0       3          10   \n",
              "4                  1  0.24  0.2879      0.75        0.0       0           1   \n",
              "\n",
              "   count  \n",
              "0     16  \n",
              "1     40  \n",
              "2     32  \n",
              "3     13  \n",
              "4      1  "
            ]
          },
          "execution_count": 4,
          "metadata": {},
          "output_type": "execute_result"
        }
      ],
      "source": [
        "hour_df.head()"
      ]
    },
    {
      "cell_type": "markdown",
      "metadata": {
        "id": "NaveGHGzGFWk"
      },
      "source": [
        "Drop unnecessary columns"
      ]
    },
    {
      "cell_type": "code",
      "execution_count": 5,
      "metadata": {
        "id": "PE5u4fykGFWk"
      },
      "outputs": [
        {
          "data": {
            "text/html": [
              "<div>\n",
              "<style scoped>\n",
              "    .dataframe tbody tr th:only-of-type {\n",
              "        vertical-align: middle;\n",
              "    }\n",
              "\n",
              "    .dataframe tbody tr th {\n",
              "        vertical-align: top;\n",
              "    }\n",
              "\n",
              "    .dataframe thead th {\n",
              "        text-align: right;\n",
              "    }\n",
              "</style>\n",
              "<table border=\"1\" class=\"dataframe\">\n",
              "  <thead>\n",
              "    <tr style=\"text-align: right;\">\n",
              "      <th></th>\n",
              "      <th>season</th>\n",
              "      <th>month</th>\n",
              "      <th>hour</th>\n",
              "      <th>holiday</th>\n",
              "      <th>weekday</th>\n",
              "      <th>workingday</th>\n",
              "      <th>weather_situation</th>\n",
              "      <th>temp</th>\n",
              "      <th>atemp</th>\n",
              "      <th>humidity</th>\n",
              "      <th>windspeed</th>\n",
              "      <th>casual</th>\n",
              "      <th>registered</th>\n",
              "      <th>count</th>\n",
              "    </tr>\n",
              "  </thead>\n",
              "  <tbody>\n",
              "    <tr>\n",
              "      <th>0</th>\n",
              "      <td>1</td>\n",
              "      <td>1</td>\n",
              "      <td>0</td>\n",
              "      <td>0</td>\n",
              "      <td>6</td>\n",
              "      <td>0</td>\n",
              "      <td>1</td>\n",
              "      <td>0.24</td>\n",
              "      <td>0.2879</td>\n",
              "      <td>0.81</td>\n",
              "      <td>0.0000</td>\n",
              "      <td>3</td>\n",
              "      <td>13</td>\n",
              "      <td>16</td>\n",
              "    </tr>\n",
              "    <tr>\n",
              "      <th>1</th>\n",
              "      <td>1</td>\n",
              "      <td>1</td>\n",
              "      <td>1</td>\n",
              "      <td>0</td>\n",
              "      <td>6</td>\n",
              "      <td>0</td>\n",
              "      <td>1</td>\n",
              "      <td>0.22</td>\n",
              "      <td>0.2727</td>\n",
              "      <td>0.80</td>\n",
              "      <td>0.0000</td>\n",
              "      <td>8</td>\n",
              "      <td>32</td>\n",
              "      <td>40</td>\n",
              "    </tr>\n",
              "    <tr>\n",
              "      <th>2</th>\n",
              "      <td>1</td>\n",
              "      <td>1</td>\n",
              "      <td>2</td>\n",
              "      <td>0</td>\n",
              "      <td>6</td>\n",
              "      <td>0</td>\n",
              "      <td>1</td>\n",
              "      <td>0.22</td>\n",
              "      <td>0.2727</td>\n",
              "      <td>0.80</td>\n",
              "      <td>0.0000</td>\n",
              "      <td>5</td>\n",
              "      <td>27</td>\n",
              "      <td>32</td>\n",
              "    </tr>\n",
              "    <tr>\n",
              "      <th>3</th>\n",
              "      <td>1</td>\n",
              "      <td>1</td>\n",
              "      <td>3</td>\n",
              "      <td>0</td>\n",
              "      <td>6</td>\n",
              "      <td>0</td>\n",
              "      <td>1</td>\n",
              "      <td>0.24</td>\n",
              "      <td>0.2879</td>\n",
              "      <td>0.75</td>\n",
              "      <td>0.0000</td>\n",
              "      <td>3</td>\n",
              "      <td>10</td>\n",
              "      <td>13</td>\n",
              "    </tr>\n",
              "    <tr>\n",
              "      <th>4</th>\n",
              "      <td>1</td>\n",
              "      <td>1</td>\n",
              "      <td>4</td>\n",
              "      <td>0</td>\n",
              "      <td>6</td>\n",
              "      <td>0</td>\n",
              "      <td>1</td>\n",
              "      <td>0.24</td>\n",
              "      <td>0.2879</td>\n",
              "      <td>0.75</td>\n",
              "      <td>0.0000</td>\n",
              "      <td>0</td>\n",
              "      <td>1</td>\n",
              "      <td>1</td>\n",
              "    </tr>\n",
              "    <tr>\n",
              "      <th>...</th>\n",
              "      <td>...</td>\n",
              "      <td>...</td>\n",
              "      <td>...</td>\n",
              "      <td>...</td>\n",
              "      <td>...</td>\n",
              "      <td>...</td>\n",
              "      <td>...</td>\n",
              "      <td>...</td>\n",
              "      <td>...</td>\n",
              "      <td>...</td>\n",
              "      <td>...</td>\n",
              "      <td>...</td>\n",
              "      <td>...</td>\n",
              "      <td>...</td>\n",
              "    </tr>\n",
              "    <tr>\n",
              "      <th>17374</th>\n",
              "      <td>1</td>\n",
              "      <td>12</td>\n",
              "      <td>19</td>\n",
              "      <td>0</td>\n",
              "      <td>1</td>\n",
              "      <td>1</td>\n",
              "      <td>2</td>\n",
              "      <td>0.26</td>\n",
              "      <td>0.2576</td>\n",
              "      <td>0.60</td>\n",
              "      <td>0.1642</td>\n",
              "      <td>11</td>\n",
              "      <td>108</td>\n",
              "      <td>119</td>\n",
              "    </tr>\n",
              "    <tr>\n",
              "      <th>17375</th>\n",
              "      <td>1</td>\n",
              "      <td>12</td>\n",
              "      <td>20</td>\n",
              "      <td>0</td>\n",
              "      <td>1</td>\n",
              "      <td>1</td>\n",
              "      <td>2</td>\n",
              "      <td>0.26</td>\n",
              "      <td>0.2576</td>\n",
              "      <td>0.60</td>\n",
              "      <td>0.1642</td>\n",
              "      <td>8</td>\n",
              "      <td>81</td>\n",
              "      <td>89</td>\n",
              "    </tr>\n",
              "    <tr>\n",
              "      <th>17376</th>\n",
              "      <td>1</td>\n",
              "      <td>12</td>\n",
              "      <td>21</td>\n",
              "      <td>0</td>\n",
              "      <td>1</td>\n",
              "      <td>1</td>\n",
              "      <td>1</td>\n",
              "      <td>0.26</td>\n",
              "      <td>0.2576</td>\n",
              "      <td>0.60</td>\n",
              "      <td>0.1642</td>\n",
              "      <td>7</td>\n",
              "      <td>83</td>\n",
              "      <td>90</td>\n",
              "    </tr>\n",
              "    <tr>\n",
              "      <th>17377</th>\n",
              "      <td>1</td>\n",
              "      <td>12</td>\n",
              "      <td>22</td>\n",
              "      <td>0</td>\n",
              "      <td>1</td>\n",
              "      <td>1</td>\n",
              "      <td>1</td>\n",
              "      <td>0.26</td>\n",
              "      <td>0.2727</td>\n",
              "      <td>0.56</td>\n",
              "      <td>0.1343</td>\n",
              "      <td>13</td>\n",
              "      <td>48</td>\n",
              "      <td>61</td>\n",
              "    </tr>\n",
              "    <tr>\n",
              "      <th>17378</th>\n",
              "      <td>1</td>\n",
              "      <td>12</td>\n",
              "      <td>23</td>\n",
              "      <td>0</td>\n",
              "      <td>1</td>\n",
              "      <td>1</td>\n",
              "      <td>1</td>\n",
              "      <td>0.26</td>\n",
              "      <td>0.2727</td>\n",
              "      <td>0.65</td>\n",
              "      <td>0.1343</td>\n",
              "      <td>12</td>\n",
              "      <td>37</td>\n",
              "      <td>49</td>\n",
              "    </tr>\n",
              "  </tbody>\n",
              "</table>\n",
              "<p>17379 rows × 14 columns</p>\n",
              "</div>"
            ],
            "text/plain": [
              "       season  month  hour  holiday  weekday  workingday  weather_situation  \\\n",
              "0           1      1     0        0        6           0                  1   \n",
              "1           1      1     1        0        6           0                  1   \n",
              "2           1      1     2        0        6           0                  1   \n",
              "3           1      1     3        0        6           0                  1   \n",
              "4           1      1     4        0        6           0                  1   \n",
              "...       ...    ...   ...      ...      ...         ...                ...   \n",
              "17374       1     12    19        0        1           1                  2   \n",
              "17375       1     12    20        0        1           1                  2   \n",
              "17376       1     12    21        0        1           1                  1   \n",
              "17377       1     12    22        0        1           1                  1   \n",
              "17378       1     12    23        0        1           1                  1   \n",
              "\n",
              "       temp   atemp  humidity  windspeed  casual  registered  count  \n",
              "0      0.24  0.2879      0.81     0.0000       3          13     16  \n",
              "1      0.22  0.2727      0.80     0.0000       8          32     40  \n",
              "2      0.22  0.2727      0.80     0.0000       5          27     32  \n",
              "3      0.24  0.2879      0.75     0.0000       3          10     13  \n",
              "4      0.24  0.2879      0.75     0.0000       0           1      1  \n",
              "...     ...     ...       ...        ...     ...         ...    ...  \n",
              "17374  0.26  0.2576      0.60     0.1642      11         108    119  \n",
              "17375  0.26  0.2576      0.60     0.1642       8          81     89  \n",
              "17376  0.26  0.2576      0.60     0.1642       7          83     90  \n",
              "17377  0.26  0.2727      0.56     0.1343      13          48     61  \n",
              "17378  0.26  0.2727      0.65     0.1343      12          37     49  \n",
              "\n",
              "[17379 rows x 14 columns]"
            ]
          },
          "execution_count": 5,
          "metadata": {},
          "output_type": "execute_result"
        }
      ],
      "source": [
        "hour_df = hour_df.drop(columns = ['instant' , 'dteday','year'])\n",
        "hour_df"
      ]
    },
    {
      "cell_type": "markdown",
      "metadata": {
        "id": "gfBiRMtbGFWm"
      },
      "source": [
        "Define weather situation variable names"
      ]
    },
    {
      "cell_type": "code",
      "execution_count": 6,
      "metadata": {
        "id": "xL1QPPjoGFWm"
      },
      "outputs": [],
      "source": [
        "def weather_situation(num):\n",
        "    num = int(num)\n",
        "    if num == 1:\n",
        "        return 'Clear, Few clouds, Partly cloudy, Partly cloudy'\n",
        "    elif num == 2:\n",
        "        return 'Mist + Cloudy, Mist + Broken clouds, Mist + Few clouds, Mist'\n",
        "    elif num == 3:\n",
        "        return 'Light Snow, Light Rain + Thunderstorm + Scattered clouds, Light Rain + Scattered clouds'\n",
        "    else:\n",
        "        return 'Heavy Rain + Ice Pallets + Thunderstorm + Mist, Snow + Fog'\n",
        "    \n",
        "    "
      ]
    },
    {
      "cell_type": "code",
      "execution_count": 7,
      "metadata": {
        "id": "gZ137VhxGFWn"
      },
      "outputs": [
        {
          "data": {
            "text/plain": [
              "0          Clear, Few clouds, Partly cloudy, Partly cloudy\n",
              "1          Clear, Few clouds, Partly cloudy, Partly cloudy\n",
              "2          Clear, Few clouds, Partly cloudy, Partly cloudy\n",
              "3          Clear, Few clouds, Partly cloudy, Partly cloudy\n",
              "4          Clear, Few clouds, Partly cloudy, Partly cloudy\n",
              "                               ...                        \n",
              "17374    Mist + Cloudy, Mist + Broken clouds, Mist + Fe...\n",
              "17375    Mist + Cloudy, Mist + Broken clouds, Mist + Fe...\n",
              "17376      Clear, Few clouds, Partly cloudy, Partly cloudy\n",
              "17377      Clear, Few clouds, Partly cloudy, Partly cloudy\n",
              "17378      Clear, Few clouds, Partly cloudy, Partly cloudy\n",
              "Name: weather_situation, Length: 17379, dtype: object"
            ]
          },
          "execution_count": 7,
          "metadata": {},
          "output_type": "execute_result"
        }
      ],
      "source": [
        "hour_df['weather_situation'] = hour_df['weather_situation'].apply(weather_situation)\n",
        "hour_df['weather_situation']\n"
      ]
    },
    {
      "cell_type": "code",
      "execution_count": 8,
      "metadata": {},
      "outputs": [],
      "source": [
        "def season(num):\n",
        "    num = int(num)\n",
        "    if num == 1:\n",
        "        return 'winter'\n",
        "    elif num == 2:\n",
        "        return 'spring'\n",
        "    elif num == 3:\n",
        "        return 'summer'\n",
        "    else:\n",
        "        return 'fall'"
      ]
    },
    {
      "cell_type": "code",
      "execution_count": 9,
      "metadata": {},
      "outputs": [
        {
          "data": {
            "text/plain": [
              "0        winter\n",
              "1        winter\n",
              "2        winter\n",
              "3        winter\n",
              "4        winter\n",
              "          ...  \n",
              "17374    winter\n",
              "17375    winter\n",
              "17376    winter\n",
              "17377    winter\n",
              "17378    winter\n",
              "Name: season, Length: 17379, dtype: object"
            ]
          },
          "execution_count": 9,
          "metadata": {},
          "output_type": "execute_result"
        }
      ],
      "source": [
        "hour_df['season'] = hour_df['season'].apply(season)\n",
        "hour_df['season']"
      ]
    },
    {
      "cell_type": "markdown",
      "metadata": {
        "id": "eKN6r3N8GFWp"
      },
      "source": [
        "Check correlation of some variables of the dataset"
      ]
    },
    {
      "cell_type": "code",
      "execution_count": 10,
      "metadata": {
        "colab": {
          "base_uri": "https://localhost:8080/",
          "height": 286
        },
        "id": "T1eMFl-7GFWp",
        "outputId": "dc8513e8-483f-4e2a-a1b2-c87a9575a384"
      },
      "outputs": [
        {
          "data": {
            "text/plain": [
              "<AxesSubplot:>"
            ]
          },
          "execution_count": 10,
          "metadata": {},
          "output_type": "execute_result"
        },
        {
          "data": {
            "image/png": "[encoded data removed]",
            "text/plain": [
              "<Figure size 432x288 with 2 Axes>"
            ]
          },
          "metadata": {
            "needs_background": "light"
          },
          "output_type": "display_data"
        }
      ],
      "source": [
        "sns.heatmap(hour_df[[\"temp\", \"atemp\", \"windspeed\", \"humidity\", \"count\",\"casual\",'registered']].corr(), annot=True)"
      ]
    },
    {
      "cell_type": "code",
      "execution_count": 11,
      "metadata": {},
      "outputs": [
        {
          "data": {
            "image/png": "[encoded data removed]",
            "text/plain": [
              "<Figure size 1800x1440 with 25 Axes>"
            ]
          },
          "metadata": {},
          "output_type": "display_data"
        }
      ],
      "source": [
        "col_to_plot = ['humidity','temp','atemp','windspeed']\n",
        "sns.set_style('dark')\n",
        "hour_df[col_to_plot].plot(subplots=True, layout=(5,5), kind='box', figsize=(25,20), patch_artist=True)\n",
        "plt.subplots_adjust(wspace=0.5);"
      ]
    },
    {
      "cell_type": "code",
      "execution_count": 12,
      "metadata": {},
      "outputs": [
        {
          "data": {
            "image/png": "[encoded data removed]",
            "text/plain": [
              "<Figure size 1800x1440 with 4 Axes>"
            ]
          },
          "metadata": {},
          "output_type": "display_data"
        }
      ],
      "source": [
        "from scipy.stats import skew\n",
        "def dist_plot(df, cols):\n",
        "  sns.set_style('dark')\n",
        "  plt.figure(figsize=(25,20))\n",
        "  for i, col in enumerate(cols):\n",
        "    ax = plt.subplot(5,6, i+1)\n",
        "    sns.kdeplot(df[col], ax=ax)\n",
        "    plt.text(0.5,0.9,\"skew= \" + str(round(skew(df[col]),2)), bbox=dict(facecolor='yellow', alpha=0.5), horizontalalignment='center', verticalalignment='center', transform=ax.transAxes)\n",
        "    plt.xlabel(col)\n",
        "plt.show()\n",
        "\n",
        "dist_plot(hour_df,col_to_plot)"
      ]
    },
    {
      "cell_type": "code",
      "execution_count": 13,
      "metadata": {},
      "outputs": [
        {
          "data": {
            "image/png": "[encoded data removed]",
            "text/plain": [
              "<Figure size 1800x1440 with 25 Axes>"
            ]
          },
          "metadata": {},
          "output_type": "display_data"
        },
        {
          "data": {
            "image/png": "[encoded data removed]",
            "text/plain": [
              "<Figure size 1800x1440 with 4 Axes>"
            ]
          },
          "metadata": {},
          "output_type": "display_data"
        }
      ],
      "source": [
        "hour_cap = hour_df\n",
        "features = ['humidity','temp','atemp','windspeed']\n",
        "def iqr_capping(df, cols, factor):\n",
        "    \n",
        "    for col in cols:\n",
        "        \n",
        "        q1 = df[col].quantile(0.25)\n",
        "        q3 = df[col].quantile(0.75)\n",
        "        \n",
        "        iqr = q3 - q1\n",
        "        \n",
        "        upper_whisker = q3 + (factor*iqr)\n",
        "        lower_whisker = q1 - (factor*iqr)\n",
        "        \n",
        "        df[col] = np.where(df[col]>upper_whisker, upper_whisker,\n",
        "                 np.where(df[col]<lower_whisker, lower_whisker, df[col]))\n",
        "\n",
        "iqr_capping(hour_cap, features, 1.5)\n",
        "\n",
        "sns.set_style('dark')\n",
        "hour_cap[col_to_plot].plot(subplots=True, layout=(5,5), kind='box', figsize=(25,20), patch_artist=True)\n",
        "plt.subplots_adjust(wspace=0.5);\n",
        "\n",
        "dist_plot(hour_cap, col_to_plot)"
      ]
    },
    {
      "cell_type": "code",
      "execution_count": 14,
      "metadata": {},
      "outputs": [],
      "source": [
        "excluded_columns = ['atemp','casual','registered']\n",
        "hour_df_final = hour_df.drop(excluded_columns, axis=1)"
      ]
    },
    {
      "cell_type": "markdown",
      "metadata": {
        "id": "89ybrirWGFWq"
      },
      "source": [
        "I can see that 'temp' and 'atemp' have high correlation with each other so I decide to remove 'atemp' from the dataset"
      ]
    },
    {
      "cell_type": "code",
      "execution_count": 15,
      "metadata": {
        "colab": {
          "base_uri": "https://localhost:8080/",
          "height": 206
        },
        "id": "OMf6bQUXGFWq",
        "outputId": "dd5f6bb5-7b15-4b17-f7ad-cce258f87300"
      },
      "outputs": [
        {
          "data": {
            "text/html": [
              "<div>\n",
              "<style scoped>\n",
              "    .dataframe tbody tr th:only-of-type {\n",
              "        vertical-align: middle;\n",
              "    }\n",
              "\n",
              "    .dataframe tbody tr th {\n",
              "        vertical-align: top;\n",
              "    }\n",
              "\n",
              "    .dataframe thead th {\n",
              "        text-align: right;\n",
              "    }\n",
              "</style>\n",
              "<table border=\"1\" class=\"dataframe\">\n",
              "  <thead>\n",
              "    <tr style=\"text-align: right;\">\n",
              "      <th></th>\n",
              "      <th>season</th>\n",
              "      <th>month</th>\n",
              "      <th>hour</th>\n",
              "      <th>holiday</th>\n",
              "      <th>weekday</th>\n",
              "      <th>workingday</th>\n",
              "      <th>weather_situation</th>\n",
              "      <th>temp</th>\n",
              "      <th>humidity</th>\n",
              "      <th>windspeed</th>\n",
              "      <th>count</th>\n",
              "    </tr>\n",
              "  </thead>\n",
              "  <tbody>\n",
              "    <tr>\n",
              "      <th>0</th>\n",
              "      <td>winter</td>\n",
              "      <td>1</td>\n",
              "      <td>0</td>\n",
              "      <td>0</td>\n",
              "      <td>6</td>\n",
              "      <td>0</td>\n",
              "      <td>Clear, Few clouds, Partly cloudy, Partly cloudy</td>\n",
              "      <td>0.24</td>\n",
              "      <td>0.81</td>\n",
              "      <td>0.0</td>\n",
              "      <td>16</td>\n",
              "    </tr>\n",
              "    <tr>\n",
              "      <th>1</th>\n",
              "      <td>winter</td>\n",
              "      <td>1</td>\n",
              "      <td>1</td>\n",
              "      <td>0</td>\n",
              "      <td>6</td>\n",
              "      <td>0</td>\n",
              "      <td>Clear, Few clouds, Partly cloudy, Partly cloudy</td>\n",
              "      <td>0.22</td>\n",
              "      <td>0.80</td>\n",
              "      <td>0.0</td>\n",
              "      <td>40</td>\n",
              "    </tr>\n",
              "    <tr>\n",
              "      <th>2</th>\n",
              "      <td>winter</td>\n",
              "      <td>1</td>\n",
              "      <td>2</td>\n",
              "      <td>0</td>\n",
              "      <td>6</td>\n",
              "      <td>0</td>\n",
              "      <td>Clear, Few clouds, Partly cloudy, Partly cloudy</td>\n",
              "      <td>0.22</td>\n",
              "      <td>0.80</td>\n",
              "      <td>0.0</td>\n",
              "      <td>32</td>\n",
              "    </tr>\n",
              "    <tr>\n",
              "      <th>3</th>\n",
              "      <td>winter</td>\n",
              "      <td>1</td>\n",
              "      <td>3</td>\n",
              "      <td>0</td>\n",
              "      <td>6</td>\n",
              "      <td>0</td>\n",
              "      <td>Clear, Few clouds, Partly cloudy, Partly cloudy</td>\n",
              "      <td>0.24</td>\n",
              "      <td>0.75</td>\n",
              "      <td>0.0</td>\n",
              "      <td>13</td>\n",
              "    </tr>\n",
              "    <tr>\n",
              "      <th>4</th>\n",
              "      <td>winter</td>\n",
              "      <td>1</td>\n",
              "      <td>4</td>\n",
              "      <td>0</td>\n",
              "      <td>6</td>\n",
              "      <td>0</td>\n",
              "      <td>Clear, Few clouds, Partly cloudy, Partly cloudy</td>\n",
              "      <td>0.24</td>\n",
              "      <td>0.75</td>\n",
              "      <td>0.0</td>\n",
              "      <td>1</td>\n",
              "    </tr>\n",
              "  </tbody>\n",
              "</table>\n",
              "</div>"
            ],
            "text/plain": [
              "   season  month  hour  holiday  weekday  workingday  \\\n",
              "0  winter      1     0        0        6           0   \n",
              "1  winter      1     1        0        6           0   \n",
              "2  winter      1     2        0        6           0   \n",
              "3  winter      1     3        0        6           0   \n",
              "4  winter      1     4        0        6           0   \n",
              "\n",
              "                                 weather_situation  temp  humidity  windspeed  \\\n",
              "0  Clear, Few clouds, Partly cloudy, Partly cloudy  0.24      0.81        0.0   \n",
              "1  Clear, Few clouds, Partly cloudy, Partly cloudy  0.22      0.80        0.0   \n",
              "2  Clear, Few clouds, Partly cloudy, Partly cloudy  0.22      0.80        0.0   \n",
              "3  Clear, Few clouds, Partly cloudy, Partly cloudy  0.24      0.75        0.0   \n",
              "4  Clear, Few clouds, Partly cloudy, Partly cloudy  0.24      0.75        0.0   \n",
              "\n",
              "   count  \n",
              "0     16  \n",
              "1     40  \n",
              "2     32  \n",
              "3     13  \n",
              "4      1  "
            ]
          },
          "execution_count": 15,
          "metadata": {},
          "output_type": "execute_result"
        }
      ],
      "source": [
        "hour_df_final.head()"
      ]
    },
    {
      "cell_type": "markdown",
      "metadata": {},
      "source": [
        "skewness of 'count'"
      ]
    },
    {
      "cell_type": "code",
      "execution_count": 16,
      "metadata": {},
      "outputs": [
        {
          "data": {
            "text/plain": [
              "1.2774116037490577"
            ]
          },
          "execution_count": 16,
          "metadata": {},
          "output_type": "execute_result"
        }
      ],
      "source": [
        "hour_df_final['count'].skew()"
      ]
    },
    {
      "cell_type": "markdown",
      "metadata": {},
      "source": [
        "Log transform 'count'"
      ]
    },
    {
      "cell_type": "code",
      "execution_count": 17,
      "metadata": {},
      "outputs": [],
      "source": [
        "hour_df_final['count'] = np.log(hour_df_final['count'] + 1)"
      ]
    },
    {
      "cell_type": "markdown",
      "metadata": {
        "id": "XT-xT2DAGFWr"
      },
      "source": [
        "Get dummies"
      ]
    },
    {
      "cell_type": "code",
      "execution_count": 18,
      "metadata": {
        "id": "3SqiarfmGFWr"
      },
      "outputs": [
        {
          "data": {
            "text/html": [
              "<div>\n",
              "<style scoped>\n",
              "    .dataframe tbody tr th:only-of-type {\n",
              "        vertical-align: middle;\n",
              "    }\n",
              "\n",
              "    .dataframe tbody tr th {\n",
              "        vertical-align: top;\n",
              "    }\n",
              "\n",
              "    .dataframe thead th {\n",
              "        text-align: right;\n",
              "    }\n",
              "</style>\n",
              "<table border=\"1\" class=\"dataframe\">\n",
              "  <thead>\n",
              "    <tr style=\"text-align: right;\">\n",
              "      <th></th>\n",
              "      <th>month</th>\n",
              "      <th>hour</th>\n",
              "      <th>holiday</th>\n",
              "      <th>weekday</th>\n",
              "      <th>temp</th>\n",
              "      <th>humidity</th>\n",
              "      <th>windspeed</th>\n",
              "      <th>count</th>\n",
              "      <th>season_spring</th>\n",
              "      <th>season_summer</th>\n",
              "      <th>season_winter</th>\n",
              "      <th>workingday_1</th>\n",
              "      <th>weather_situation_Heavy Rain + Ice Pallets + Thunderstorm + Mist, Snow + Fog</th>\n",
              "      <th>weather_situation_Light Snow, Light Rain + Thunderstorm + Scattered clouds, Light Rain + Scattered clouds</th>\n",
              "      <th>weather_situation_Mist + Cloudy, Mist + Broken clouds, Mist + Few clouds, Mist</th>\n",
              "    </tr>\n",
              "  </thead>\n",
              "  <tbody>\n",
              "    <tr>\n",
              "      <th>0</th>\n",
              "      <td>1</td>\n",
              "      <td>0</td>\n",
              "      <td>0</td>\n",
              "      <td>6</td>\n",
              "      <td>0.24</td>\n",
              "      <td>0.81</td>\n",
              "      <td>0.0000</td>\n",
              "      <td>2.833213</td>\n",
              "      <td>0</td>\n",
              "      <td>0</td>\n",
              "      <td>1</td>\n",
              "      <td>0</td>\n",
              "      <td>0</td>\n",
              "      <td>0</td>\n",
              "      <td>0</td>\n",
              "    </tr>\n",
              "    <tr>\n",
              "      <th>1</th>\n",
              "      <td>1</td>\n",
              "      <td>1</td>\n",
              "      <td>0</td>\n",
              "      <td>6</td>\n",
              "      <td>0.22</td>\n",
              "      <td>0.80</td>\n",
              "      <td>0.0000</td>\n",
              "      <td>3.713572</td>\n",
              "      <td>0</td>\n",
              "      <td>0</td>\n",
              "      <td>1</td>\n",
              "      <td>0</td>\n",
              "      <td>0</td>\n",
              "      <td>0</td>\n",
              "      <td>0</td>\n",
              "    </tr>\n",
              "    <tr>\n",
              "      <th>2</th>\n",
              "      <td>1</td>\n",
              "      <td>2</td>\n",
              "      <td>0</td>\n",
              "      <td>6</td>\n",
              "      <td>0.22</td>\n",
              "      <td>0.80</td>\n",
              "      <td>0.0000</td>\n",
              "      <td>3.496508</td>\n",
              "      <td>0</td>\n",
              "      <td>0</td>\n",
              "      <td>1</td>\n",
              "      <td>0</td>\n",
              "      <td>0</td>\n",
              "      <td>0</td>\n",
              "      <td>0</td>\n",
              "    </tr>\n",
              "    <tr>\n",
              "      <th>3</th>\n",
              "      <td>1</td>\n",
              "      <td>3</td>\n",
              "      <td>0</td>\n",
              "      <td>6</td>\n",
              "      <td>0.24</td>\n",
              "      <td>0.75</td>\n",
              "      <td>0.0000</td>\n",
              "      <td>2.639057</td>\n",
              "      <td>0</td>\n",
              "      <td>0</td>\n",
              "      <td>1</td>\n",
              "      <td>0</td>\n",
              "      <td>0</td>\n",
              "      <td>0</td>\n",
              "      <td>0</td>\n",
              "    </tr>\n",
              "    <tr>\n",
              "      <th>4</th>\n",
              "      <td>1</td>\n",
              "      <td>4</td>\n",
              "      <td>0</td>\n",
              "      <td>6</td>\n",
              "      <td>0.24</td>\n",
              "      <td>0.75</td>\n",
              "      <td>0.0000</td>\n",
              "      <td>0.693147</td>\n",
              "      <td>0</td>\n",
              "      <td>0</td>\n",
              "      <td>1</td>\n",
              "      <td>0</td>\n",
              "      <td>0</td>\n",
              "      <td>0</td>\n",
              "      <td>0</td>\n",
              "    </tr>\n",
              "    <tr>\n",
              "      <th>...</th>\n",
              "      <td>...</td>\n",
              "      <td>...</td>\n",
              "      <td>...</td>\n",
              "      <td>...</td>\n",
              "      <td>...</td>\n",
              "      <td>...</td>\n",
              "      <td>...</td>\n",
              "      <td>...</td>\n",
              "      <td>...</td>\n",
              "      <td>...</td>\n",
              "      <td>...</td>\n",
              "      <td>...</td>\n",
              "      <td>...</td>\n",
              "      <td>...</td>\n",
              "      <td>...</td>\n",
              "    </tr>\n",
              "    <tr>\n",
              "      <th>17374</th>\n",
              "      <td>12</td>\n",
              "      <td>19</td>\n",
              "      <td>0</td>\n",
              "      <td>1</td>\n",
              "      <td>0.26</td>\n",
              "      <td>0.60</td>\n",
              "      <td>0.1642</td>\n",
              "      <td>4.787492</td>\n",
              "      <td>0</td>\n",
              "      <td>0</td>\n",
              "      <td>1</td>\n",
              "      <td>1</td>\n",
              "      <td>0</td>\n",
              "      <td>0</td>\n",
              "      <td>1</td>\n",
              "    </tr>\n",
              "    <tr>\n",
              "      <th>17375</th>\n",
              "      <td>12</td>\n",
              "      <td>20</td>\n",
              "      <td>0</td>\n",
              "      <td>1</td>\n",
              "      <td>0.26</td>\n",
              "      <td>0.60</td>\n",
              "      <td>0.1642</td>\n",
              "      <td>4.499810</td>\n",
              "      <td>0</td>\n",
              "      <td>0</td>\n",
              "      <td>1</td>\n",
              "      <td>1</td>\n",
              "      <td>0</td>\n",
              "      <td>0</td>\n",
              "      <td>1</td>\n",
              "    </tr>\n",
              "    <tr>\n",
              "      <th>17376</th>\n",
              "      <td>12</td>\n",
              "      <td>21</td>\n",
              "      <td>0</td>\n",
              "      <td>1</td>\n",
              "      <td>0.26</td>\n",
              "      <td>0.60</td>\n",
              "      <td>0.1642</td>\n",
              "      <td>4.510860</td>\n",
              "      <td>0</td>\n",
              "      <td>0</td>\n",
              "      <td>1</td>\n",
              "      <td>1</td>\n",
              "      <td>0</td>\n",
              "      <td>0</td>\n",
              "      <td>0</td>\n",
              "    </tr>\n",
              "    <tr>\n",
              "      <th>17377</th>\n",
              "      <td>12</td>\n",
              "      <td>22</td>\n",
              "      <td>0</td>\n",
              "      <td>1</td>\n",
              "      <td>0.26</td>\n",
              "      <td>0.56</td>\n",
              "      <td>0.1343</td>\n",
              "      <td>4.127134</td>\n",
              "      <td>0</td>\n",
              "      <td>0</td>\n",
              "      <td>1</td>\n",
              "      <td>1</td>\n",
              "      <td>0</td>\n",
              "      <td>0</td>\n",
              "      <td>0</td>\n",
              "    </tr>\n",
              "    <tr>\n",
              "      <th>17378</th>\n",
              "      <td>12</td>\n",
              "      <td>23</td>\n",
              "      <td>0</td>\n",
              "      <td>1</td>\n",
              "      <td>0.26</td>\n",
              "      <td>0.65</td>\n",
              "      <td>0.1343</td>\n",
              "      <td>3.912023</td>\n",
              "      <td>0</td>\n",
              "      <td>0</td>\n",
              "      <td>1</td>\n",
              "      <td>1</td>\n",
              "      <td>0</td>\n",
              "      <td>0</td>\n",
              "      <td>0</td>\n",
              "    </tr>\n",
              "  </tbody>\n",
              "</table>\n",
              "<p>17379 rows × 15 columns</p>\n",
              "</div>"
            ],
            "text/plain": [
              "       month  hour  holiday  weekday  temp  humidity  windspeed     count  \\\n",
              "0          1     0        0        6  0.24      0.81     0.0000  2.833213   \n",
              "1          1     1        0        6  0.22      0.80     0.0000  3.713572   \n",
              "2          1     2        0        6  0.22      0.80     0.0000  3.496508   \n",
              "3          1     3        0        6  0.24      0.75     0.0000  2.639057   \n",
              "4          1     4        0        6  0.24      0.75     0.0000  0.693147   \n",
              "...      ...   ...      ...      ...   ...       ...        ...       ...   \n",
              "17374     12    19        0        1  0.26      0.60     0.1642  4.787492   \n",
              "17375     12    20        0        1  0.26      0.60     0.1642  4.499810   \n",
              "17376     12    21        0        1  0.26      0.60     0.1642  4.510860   \n",
              "17377     12    22        0        1  0.26      0.56     0.1343  4.127134   \n",
              "17378     12    23        0        1  0.26      0.65     0.1343  3.912023   \n",
              "\n",
              "       season_spring  season_summer  season_winter  workingday_1  \\\n",
              "0                  0              0              1             0   \n",
              "1                  0              0              1             0   \n",
              "2                  0              0              1             0   \n",
              "3                  0              0              1             0   \n",
              "4                  0              0              1             0   \n",
              "...              ...            ...            ...           ...   \n",
              "17374              0              0              1             1   \n",
              "17375              0              0              1             1   \n",
              "17376              0              0              1             1   \n",
              "17377              0              0              1             1   \n",
              "17378              0              0              1             1   \n",
              "\n",
              "       weather_situation_Heavy Rain + Ice Pallets + Thunderstorm + Mist, Snow + Fog  \\\n",
              "0                                                      0                              \n",
              "1                                                      0                              \n",
              "2                                                      0                              \n",
              "3                                                      0                              \n",
              "4                                                      0                              \n",
              "...                                                  ...                              \n",
              "17374                                                  0                              \n",
              "17375                                                  0                              \n",
              "17376                                                  0                              \n",
              "17377                                                  0                              \n",
              "17378                                                  0                              \n",
              "\n",
              "       weather_situation_Light Snow, Light Rain + Thunderstorm + Scattered clouds, Light Rain + Scattered clouds  \\\n",
              "0                                                      0                                                           \n",
              "1                                                      0                                                           \n",
              "2                                                      0                                                           \n",
              "3                                                      0                                                           \n",
              "4                                                      0                                                           \n",
              "...                                                  ...                                                           \n",
              "17374                                                  0                                                           \n",
              "17375                                                  0                                                           \n",
              "17376                                                  0                                                           \n",
              "17377                                                  0                                                           \n",
              "17378                                                  0                                                           \n",
              "\n",
              "       weather_situation_Mist + Cloudy, Mist + Broken clouds, Mist + Few clouds, Mist  \n",
              "0                                                      0                               \n",
              "1                                                      0                               \n",
              "2                                                      0                               \n",
              "3                                                      0                               \n",
              "4                                                      0                               \n",
              "...                                                  ...                               \n",
              "17374                                                  1                               \n",
              "17375                                                  1                               \n",
              "17376                                                  0                               \n",
              "17377                                                  0                               \n",
              "17378                                                  0                               \n",
              "\n",
              "[17379 rows x 15 columns]"
            ]
          },
          "execution_count": 18,
          "metadata": {},
          "output_type": "execute_result"
        }
      ],
      "source": [
        "dummified_df = pd.get_dummies(hour_df_final, columns = ['season', 'workingday', 'weather_situation'], drop_first = True)\n",
        "dummified_df"
      ]
    },
    {
      "cell_type": "markdown",
      "metadata": {
        "id": "IxOuk275GFWs"
      },
      "source": [
        "# Linear Regression of 'count'"
      ]
    },
    {
      "cell_type": "code",
      "execution_count": 19,
      "metadata": {
        "id": "YDN6_aesGFWs"
      },
      "outputs": [],
      "source": [
        "x= dummified_df.drop('count',axis=1)\n",
        "y= dummified_df['count']"
      ]
    },
    {
      "cell_type": "markdown",
      "metadata": {
        "id": "SmeJrRiRGFWs"
      },
      "source": [
        "Train split based on the final dataset "
      ]
    },
    {
      "cell_type": "code",
      "execution_count": 20,
      "metadata": {
        "id": "JPn9o--VGFWs"
      },
      "outputs": [],
      "source": [
        "train_x,valid_x, train_y, valid_y = train_test_split(x, y, test_size=.3, random_state=10)"
      ]
    },
    {
      "cell_type": "code",
      "execution_count": 21,
      "metadata": {
        "colab": {
          "base_uri": "https://localhost:8080/",
          "height": 0
        },
        "id": "fY-DZE-1GFWs",
        "outputId": "0a94784f-4c9c-4770-aa8b-0858dd892fe7"
      },
      "outputs": [
        {
          "name": "stdout",
          "output_type": "stream",
          "text": [
            "(12165, 14)\n"
          ]
        },
        {
          "data": {
            "text/plain": [
              "(5214, 14)"
            ]
          },
          "execution_count": 21,
          "metadata": {},
          "output_type": "execute_result"
        }
      ],
      "source": [
        "print(train_x.shape)\n",
        "valid_x.shape"
      ]
    },
    {
      "cell_type": "code",
      "execution_count": 22,
      "metadata": {},
      "outputs": [
        {
          "name": "stdout",
          "output_type": "stream",
          "text": [
            "(12165,)\n"
          ]
        },
        {
          "data": {
            "text/plain": [
              "(5214,)"
            ]
          },
          "execution_count": 22,
          "metadata": {},
          "output_type": "execute_result"
        }
      ],
      "source": [
        "print(train_y.shape)\n",
        "valid_y.shape"
      ]
    },
    {
      "cell_type": "code",
      "execution_count": 23,
      "metadata": {
        "colab": {
          "base_uri": "https://localhost:8080/",
          "height": 0
        },
        "id": "cEnp68_CGFWt",
        "outputId": "c4e77edb-8d43-4142-c9fc-f782cfd9dde2"
      },
      "outputs": [
        {
          "data": {
            "text/plain": [
              "LinearRegression()"
            ]
          },
          "execution_count": 23,
          "metadata": {},
          "output_type": "execute_result"
        }
      ],
      "source": [
        "hour_lm_count=LinearRegression()\n",
        "hour_lm_count.fit(train_x,train_y)"
      ]
    },
    {
      "cell_type": "code",
      "execution_count": 24,
      "metadata": {
        "colab": {
          "base_uri": "https://localhost:8080/",
          "height": 0
        },
        "id": "-vhPQqftGFWt",
        "outputId": "75006793-c0d6-407a-ac61-ae271049d845"
      },
      "outputs": [
        {
          "data": {
            "text/plain": [
              "3.4044240575297926"
            ]
          },
          "execution_count": 24,
          "metadata": {},
          "output_type": "execute_result"
        }
      ],
      "source": [
        "hour_lm_count.intercept_"
      ]
    },
    {
      "cell_type": "code",
      "execution_count": 25,
      "metadata": {
        "colab": {
          "base_uri": "https://localhost:8080/",
          "height": 0
        },
        "id": "AKatrmNfGFWt",
        "outputId": "d0ec43c8-8389-41d7-b83b-8a818dc35cfd"
      },
      "outputs": [
        {
          "data": {
            "text/plain": [
              "array([-3.47700401e-04,  9.41780660e-02, -2.26694778e-01,  1.28207831e-02,\n",
              "        2.55719662e+00, -1.43643797e+00,  2.24901011e-01, -3.31612102e-01,\n",
              "       -5.22008088e-01, -4.84260955e-01, -5.42574915e-02, -1.00504844e-01,\n",
              "       -2.38857203e-01,  1.66178094e-01])"
            ]
          },
          "execution_count": 25,
          "metadata": {},
          "output_type": "execute_result"
        }
      ],
      "source": [
        "hour_lm_count.coef_"
      ]
    },
    {
      "cell_type": "code",
      "execution_count": 26,
      "metadata": {
        "colab": {
          "base_uri": "https://localhost:8080/",
          "height": 0
        },
        "id": "Gu7YdF4BGFWt",
        "outputId": "2e93b95a-a1e8-41c7-f668-724e4dbc3932"
      },
      "outputs": [
        {
          "name": "stdout",
          "output_type": "stream",
          "text": [
            "\n",
            "Regression statistics\n",
            "\n",
            "                      Mean Error (ME) : -0.0000\n",
            "       Root Mean Squared Error (RMSE) : 1.0202\n",
            "            Mean Absolute Error (MAE) : 0.8040\n",
            "          Mean Percentage Error (MPE) : -11.2648\n",
            "Mean Absolute Percentage Error (MAPE) : 26.1391\n"
          ]
        }
      ],
      "source": [
        "regressionSummary(train_y, hour_lm_count.predict(train_x))"
      ]
    },
    {
      "cell_type": "code",
      "execution_count": 27,
      "metadata": {
        "id": "lH4ivIKWGFWu"
      },
      "outputs": [
        {
          "data": {
            "text/plain": [
              "array([5.11460218, 4.53619954, 5.54446346, ..., 4.04232231, 4.5333529 ,\n",
              "       4.90441891])"
            ]
          },
          "execution_count": 27,
          "metadata": {},
          "output_type": "execute_result"
        }
      ],
      "source": [
        "pred_y = hour_lm_count.predict(train_x)\n",
        "pred_y"
      ]
    },
    {
      "cell_type": "code",
      "execution_count": 28,
      "metadata": {
        "id": "PUOckT8nGFWu"
      },
      "outputs": [],
      "source": [
        "result = pd.DataFrame({'predicted': pred_y,\n",
        "                       'actual': train_y,\n",
        "                       'residuals': train_y - pred_y})"
      ]
    },
    {
      "cell_type": "code",
      "execution_count": 29,
      "metadata": {
        "colab": {
          "base_uri": "https://localhost:8080/",
          "height": 424
        },
        "id": "IY2KZTU_GFWu",
        "outputId": "e9714cb6-1c68-441e-f704-3804366ca153"
      },
      "outputs": [
        {
          "data": {
            "text/html": [
              "<div>\n",
              "<style scoped>\n",
              "    .dataframe tbody tr th:only-of-type {\n",
              "        vertical-align: middle;\n",
              "    }\n",
              "\n",
              "    .dataframe tbody tr th {\n",
              "        vertical-align: top;\n",
              "    }\n",
              "\n",
              "    .dataframe thead th {\n",
              "        text-align: right;\n",
              "    }\n",
              "</style>\n",
              "<table border=\"1\" class=\"dataframe\">\n",
              "  <thead>\n",
              "    <tr style=\"text-align: right;\">\n",
              "      <th></th>\n",
              "      <th>predicted</th>\n",
              "      <th>actual</th>\n",
              "      <th>residuals</th>\n",
              "    </tr>\n",
              "  </thead>\n",
              "  <tbody>\n",
              "    <tr>\n",
              "      <th>16745</th>\n",
              "      <td>5.114602</td>\n",
              "      <td>5.451038</td>\n",
              "      <td>0.336436</td>\n",
              "    </tr>\n",
              "    <tr>\n",
              "      <th>517</th>\n",
              "      <td>4.536200</td>\n",
              "      <td>4.189655</td>\n",
              "      <td>-0.346545</td>\n",
              "    </tr>\n",
              "    <tr>\n",
              "      <th>11296</th>\n",
              "      <td>5.544463</td>\n",
              "      <td>5.662960</td>\n",
              "      <td>0.118497</td>\n",
              "    </tr>\n",
              "    <tr>\n",
              "      <th>4726</th>\n",
              "      <td>5.766532</td>\n",
              "      <td>5.736572</td>\n",
              "      <td>-0.029960</td>\n",
              "    </tr>\n",
              "    <tr>\n",
              "      <th>8585</th>\n",
              "      <td>4.093299</td>\n",
              "      <td>4.875197</td>\n",
              "      <td>0.781898</td>\n",
              "    </tr>\n",
              "    <tr>\n",
              "      <th>...</th>\n",
              "      <td>...</td>\n",
              "      <td>...</td>\n",
              "      <td>...</td>\n",
              "    </tr>\n",
              "    <tr>\n",
              "      <th>4829</th>\n",
              "      <td>3.878619</td>\n",
              "      <td>1.609438</td>\n",
              "      <td>-2.269181</td>\n",
              "    </tr>\n",
              "    <tr>\n",
              "      <th>10201</th>\n",
              "      <td>2.964532</td>\n",
              "      <td>0.693147</td>\n",
              "      <td>-2.271385</td>\n",
              "    </tr>\n",
              "    <tr>\n",
              "      <th>9372</th>\n",
              "      <td>4.042322</td>\n",
              "      <td>4.976734</td>\n",
              "      <td>0.934411</td>\n",
              "    </tr>\n",
              "    <tr>\n",
              "      <th>7291</th>\n",
              "      <td>4.533353</td>\n",
              "      <td>5.429346</td>\n",
              "      <td>0.895993</td>\n",
              "    </tr>\n",
              "    <tr>\n",
              "      <th>7293</th>\n",
              "      <td>4.904419</td>\n",
              "      <td>5.921578</td>\n",
              "      <td>1.017160</td>\n",
              "    </tr>\n",
              "  </tbody>\n",
              "</table>\n",
              "<p>12165 rows × 3 columns</p>\n",
              "</div>"
            ],
            "text/plain": [
              "       predicted    actual  residuals\n",
              "16745   5.114602  5.451038   0.336436\n",
              "517     4.536200  4.189655  -0.346545\n",
              "11296   5.544463  5.662960   0.118497\n",
              "4726    5.766532  5.736572  -0.029960\n",
              "8585    4.093299  4.875197   0.781898\n",
              "...          ...       ...        ...\n",
              "4829    3.878619  1.609438  -2.269181\n",
              "10201   2.964532  0.693147  -2.271385\n",
              "9372    4.042322  4.976734   0.934411\n",
              "7291    4.533353  5.429346   0.895993\n",
              "7293    4.904419  5.921578   1.017160\n",
              "\n",
              "[12165 rows x 3 columns]"
            ]
          },
          "execution_count": 29,
          "metadata": {},
          "output_type": "execute_result"
        }
      ],
      "source": [
        "result"
      ]
    },
    {
      "cell_type": "code",
      "execution_count": 30,
      "metadata": {
        "colab": {
          "base_uri": "https://localhost:8080/",
          "height": 0
        },
        "id": "U_9Z0FSMGFWu",
        "outputId": "d5326e05-7782-44a7-9f42-0fe125effc81"
      },
      "outputs": [
        {
          "data": {
            "text/plain": [
              "(5214,)"
            ]
          },
          "execution_count": 30,
          "metadata": {},
          "output_type": "execute_result"
        }
      ],
      "source": [
        "hour_lm_predict_count = hour_lm_count.predict(valid_x)\n",
        "hour_lm_predict_count.shape"
      ]
    },
    {
      "cell_type": "code",
      "execution_count": 31,
      "metadata": {
        "id": "jvw0Nf9hGFWv"
      },
      "outputs": [],
      "source": [
        "result = pd.DataFrame({'predicted': hour_lm_predict_count,\n",
        "                       'actual' : valid_y,\n",
        "                       'residual': valid_y - hour_lm_predict_count})"
      ]
    },
    {
      "cell_type": "code",
      "execution_count": 32,
      "metadata": {
        "colab": {
          "base_uri": "https://localhost:8080/",
          "height": 363
        },
        "id": "4egVNeGTGFWv",
        "outputId": "9f63e9f3-c26e-41d1-e599-ed096a404302"
      },
      "outputs": [
        {
          "data": {
            "text/html": [
              "<div>\n",
              "<style scoped>\n",
              "    .dataframe tbody tr th:only-of-type {\n",
              "        vertical-align: middle;\n",
              "    }\n",
              "\n",
              "    .dataframe tbody tr th {\n",
              "        vertical-align: top;\n",
              "    }\n",
              "\n",
              "    .dataframe thead th {\n",
              "        text-align: right;\n",
              "    }\n",
              "</style>\n",
              "<table border=\"1\" class=\"dataframe\">\n",
              "  <thead>\n",
              "    <tr style=\"text-align: right;\">\n",
              "      <th></th>\n",
              "      <th>predicted</th>\n",
              "      <th>actual</th>\n",
              "      <th>residual</th>\n",
              "    </tr>\n",
              "  </thead>\n",
              "  <tbody>\n",
              "    <tr>\n",
              "      <th>6557</th>\n",
              "      <td>5.883508</td>\n",
              "      <td>5.926926</td>\n",
              "      <td>0.043418</td>\n",
              "    </tr>\n",
              "    <tr>\n",
              "      <th>11737</th>\n",
              "      <td>3.977992</td>\n",
              "      <td>4.844187</td>\n",
              "      <td>0.866195</td>\n",
              "    </tr>\n",
              "    <tr>\n",
              "      <th>4952</th>\n",
              "      <td>4.424783</td>\n",
              "      <td>3.218876</td>\n",
              "      <td>-1.205907</td>\n",
              "    </tr>\n",
              "    <tr>\n",
              "      <th>2853</th>\n",
              "      <td>5.832524</td>\n",
              "      <td>5.902633</td>\n",
              "      <td>0.070109</td>\n",
              "    </tr>\n",
              "    <tr>\n",
              "      <th>3697</th>\n",
              "      <td>5.835815</td>\n",
              "      <td>4.510860</td>\n",
              "      <td>-1.324956</td>\n",
              "    </tr>\n",
              "    <tr>\n",
              "      <th>7305</th>\n",
              "      <td>3.039286</td>\n",
              "      <td>4.330733</td>\n",
              "      <td>1.291447</td>\n",
              "    </tr>\n",
              "    <tr>\n",
              "      <th>15922</th>\n",
              "      <td>3.703583</td>\n",
              "      <td>2.772589</td>\n",
              "      <td>-0.930994</td>\n",
              "    </tr>\n",
              "    <tr>\n",
              "      <th>17084</th>\n",
              "      <td>5.216713</td>\n",
              "      <td>5.472271</td>\n",
              "      <td>0.255558</td>\n",
              "    </tr>\n",
              "    <tr>\n",
              "      <th>15165</th>\n",
              "      <td>4.459590</td>\n",
              "      <td>4.532599</td>\n",
              "      <td>0.073010</td>\n",
              "    </tr>\n",
              "    <tr>\n",
              "      <th>8756</th>\n",
              "      <td>4.919674</td>\n",
              "      <td>5.288267</td>\n",
              "      <td>0.368593</td>\n",
              "    </tr>\n",
              "  </tbody>\n",
              "</table>\n",
              "</div>"
            ],
            "text/plain": [
              "       predicted    actual  residual\n",
              "6557    5.883508  5.926926  0.043418\n",
              "11737   3.977992  4.844187  0.866195\n",
              "4952    4.424783  3.218876 -1.205907\n",
              "2853    5.832524  5.902633  0.070109\n",
              "3697    5.835815  4.510860 -1.324956\n",
              "7305    3.039286  4.330733  1.291447\n",
              "15922   3.703583  2.772589 -0.930994\n",
              "17084   5.216713  5.472271  0.255558\n",
              "15165   4.459590  4.532599  0.073010\n",
              "8756    4.919674  5.288267  0.368593"
            ]
          },
          "execution_count": 32,
          "metadata": {},
          "output_type": "execute_result"
        }
      ],
      "source": [
        "result.head(10)"
      ]
    },
    {
      "cell_type": "code",
      "execution_count": 33,
      "metadata": {
        "colab": {
          "base_uri": "https://localhost:8080/",
          "height": 0
        },
        "id": "lGzXHH14GFWv",
        "outputId": "d6565577-3ad2-4f75-b53c-253e95e1c888"
      },
      "outputs": [
        {
          "name": "stdout",
          "output_type": "stream",
          "text": [
            "\n",
            "Regression statistics\n",
            "\n",
            "                      Mean Error (ME) : -0.0000\n",
            "       Root Mean Squared Error (RMSE) : 1.0202\n",
            "            Mean Absolute Error (MAE) : 0.8040\n",
            "          Mean Percentage Error (MPE) : -11.2648\n",
            "Mean Absolute Percentage Error (MAPE) : 26.1391\n"
          ]
        }
      ],
      "source": [
        "regressionSummary(train_y, pred_y)"
      ]
    },
    {
      "cell_type": "code",
      "execution_count": 34,
      "metadata": {
        "colab": {
          "base_uri": "https://localhost:8080/",
          "height": 0
        },
        "id": "ksb5u5j1GFWv",
        "outputId": "c230d02c-5ae8-405a-f1ce-4de5bd98ccfc"
      },
      "outputs": [
        {
          "name": "stdout",
          "output_type": "stream",
          "text": [
            "\n",
            "Regression statistics\n",
            "\n",
            "                      Mean Error (ME) : -0.0289\n",
            "       Root Mean Squared Error (RMSE) : 1.0355\n",
            "            Mean Absolute Error (MAE) : 0.8209\n",
            "          Mean Percentage Error (MPE) : -12.6773\n",
            "Mean Absolute Percentage Error (MAPE) : 27.3304\n"
          ]
        }
      ],
      "source": [
        "regressionSummary(valid_y, hour_lm_predict_count)"
      ]
    },
    {
      "cell_type": "code",
      "execution_count": 35,
      "metadata": {
        "colab": {
          "base_uri": "https://localhost:8080/",
          "height": 0
        },
        "id": "zP0jOt4fGFWv",
        "outputId": "1140cf44-ae97-48df-d076-459a02c885ab"
      },
      "outputs": [
        {
          "data": {
            "text/plain": [
              "0.4736645466901005"
            ]
          },
          "execution_count": 35,
          "metadata": {},
          "output_type": "execute_result"
        }
      ],
      "source": [
        "adjusted_r2_score(train_y, pred_y, hour_lm_count)"
      ]
    },
    {
      "cell_type": "code",
      "execution_count": 36,
      "metadata": {
        "colab": {
          "base_uri": "https://localhost:8080/",
          "height": 0
        },
        "id": "LYhTBaEaGFWv",
        "outputId": "9ce5d8cd-3659-4737-a86e-17697f0f62c9"
      },
      "outputs": [
        {
          "data": {
            "text/plain": [
              "0.4829604734361509"
            ]
          },
          "execution_count": 36,
          "metadata": {},
          "output_type": "execute_result"
        }
      ],
      "source": [
        "adjusted_r2_score(valid_y, hour_lm_predict_count, hour_lm_count)"
      ]
    },
    {
      "cell_type": "code",
      "execution_count": 37,
      "metadata": {},
      "outputs": [
        {
          "data": {
            "text/plain": [
              "0.48434903153549747"
            ]
          },
          "execution_count": 37,
          "metadata": {},
          "output_type": "execute_result"
        }
      ],
      "source": [
        "r2_score(valid_y, hour_lm_count.predict(valid_x))"
      ]
    },
    {
      "cell_type": "code",
      "execution_count": 38,
      "metadata": {
        "colab": {
          "base_uri": "https://localhost:8080/",
          "height": 282
        },
        "id": "gIvVeKy7GFWw",
        "outputId": "aefb4b9a-7d37-45b7-9e08-184458474302"
      },
      "outputs": [
        {
          "data": {
            "text/plain": [
              "<matplotlib.collections.PathCollection at 0x242c4275240>"
            ]
          },
          "execution_count": 38,
          "metadata": {},
          "output_type": "execute_result"
        },
        {
          "data": {
            "image/png": "[encoded data removed]",
            "text/plain": [
              "<Figure size 432x288 with 1 Axes>"
            ]
          },
          "metadata": {},
          "output_type": "display_data"
        }
      ],
      "source": [
        "plt.scatter(valid_y, hour_lm_count.predict(valid_x))"
      ]
    },
    {
      "cell_type": "code",
      "execution_count": 39,
      "metadata": {},
      "outputs": [
        {
          "name": "stdout",
          "output_type": "stream",
          "text": [
            "                                                    Coefficient value of count\n",
            "month                                                                -0.000348\n",
            "hour                                                                  0.094178\n",
            "holiday                                                              -0.226695\n",
            "weekday                                                               0.012821\n",
            "temp                                                                  2.557197\n",
            "humidity                                                             -1.436438\n",
            "windspeed                                                             0.224901\n",
            "season_spring                                                        -0.331612\n",
            "season_summer                                                        -0.522008\n",
            "season_winter                                                        -0.484261\n",
            "workingday_1                                                         -0.054257\n",
            "weather_situation_Heavy Rain + Ice Pallets + Th...                   -0.100505\n",
            "weather_situation_Light Snow, Light Rain + Thun...                   -0.238857\n",
            "weather_situation_Mist + Cloudy, Mist + Broken ...                    0.166178\n"
          ]
        }
      ],
      "source": [
        "feature_names_count = x.columns\n",
        "model_coefficients = hour_lm_count.coef_\n",
        "\n",
        "coefficients_df = pd.DataFrame(data = model_coefficients, \n",
        "                              index = feature_names_count, \n",
        "                              columns = ['Coefficient value of count'])\n",
        "print(coefficients_df)"
      ]
    },
    {
      "cell_type": "code",
      "execution_count": 40,
      "metadata": {},
      "outputs": [],
      "source": [
        "coefficients_df.sort_values(by = 'Coefficient value of count', ascending = False, inplace = True)"
      ]
    },
    {
      "cell_type": "code",
      "execution_count": 41,
      "metadata": {},
      "outputs": [
        {
          "data": {
            "text/plain": [
              "<AxesSubplot:>"
            ]
          },
          "execution_count": 41,
          "metadata": {},
          "output_type": "execute_result"
        },
        {
          "data": {
            "image/png": "[encoded data removed]",
            "text/plain": [
              "<Figure size 432x288 with 1 Axes>"
            ]
          },
          "metadata": {},
          "output_type": "display_data"
        }
      ],
      "source": [
        "coefficients_df.plot(kind = 'barh', colormap='spring')"
      ]
    },
    {
      "cell_type": "markdown",
      "metadata": {
        "id": "rF2l6em0GFWw"
      },
      "source": [
        "# Random Forest of 'count'"
      ]
    },
    {
      "cell_type": "code",
      "execution_count": 42,
      "metadata": {
        "colab": {
          "base_uri": "https://localhost:8080/",
          "height": 0
        },
        "id": "orle847NGFWw",
        "outputId": "ba395e72-67f5-4ecb-f81a-6aa858d1715e"
      },
      "outputs": [
        {
          "data": {
            "text/plain": [
              "RandomForestRegressor(n_estimators=500, random_state=1)"
            ]
          },
          "execution_count": 42,
          "metadata": {},
          "output_type": "execute_result"
        }
      ],
      "source": [
        "rf_count=RandomForestRegressor(random_state=1, n_estimators=500)\n",
        "rf_count.fit(train_x, train_y)"
      ]
    },
    {
      "cell_type": "code",
      "execution_count": 43,
      "metadata": {
        "colab": {
          "base_uri": "https://localhost:8080/",
          "height": 0
        },
        "id": "iB5yNWw6GFWw",
        "outputId": "0d62fe05-c44b-4490-d422-0b66a8cd50b4"
      },
      "outputs": [
        {
          "data": {
            "text/plain": [
              "array([1.59426386e-02, 7.46909320e-01, 2.52037483e-03, 1.45786764e-02,\n",
              "       9.10046512e-02, 2.69529602e-02, 1.68093801e-02, 1.42034255e-03,\n",
              "       7.53224160e-04, 1.47094141e-02, 4.99483567e-02, 1.76606354e-06,\n",
              "       1.58837340e-02, 2.56516134e-03])"
            ]
          },
          "execution_count": 43,
          "metadata": {},
          "output_type": "execute_result"
        }
      ],
      "source": [
        "rf_count.feature_importances_"
      ]
    },
    {
      "cell_type": "code",
      "execution_count": 44,
      "metadata": {
        "id": "-a8IIRmIGFWw"
      },
      "outputs": [],
      "source": [
        "importance = rf_count.feature_importances_\n",
        "std = np.std([tree.feature_importances_ for tree in rf_count.estimators_], axis =0)"
      ]
    },
    {
      "cell_type": "code",
      "execution_count": 45,
      "metadata": {
        "colab": {
          "base_uri": "https://localhost:8080/",
          "height": 0
        },
        "id": "xALR3rhxGFWx",
        "outputId": "abe6d636-ebf4-463c-ed6e-0738192ec3a9"
      },
      "outputs": [
        {
          "name": "stdout",
          "output_type": "stream",
          "text": [
            "                                              feature  importance       std\n",
            "1                                                hour    0.746909  0.008374\n",
            "4                                                temp    0.091005  0.004288\n",
            "10                                       workingday_1    0.049948  0.006337\n",
            "5                                            humidity    0.026953  0.003243\n",
            "6                                           windspeed    0.016809  0.001015\n",
            "0                                               month    0.015943  0.001964\n",
            "12  weather_situation_Light Snow, Light Rain + Thu...    0.015884  0.002586\n",
            "9                                       season_winter    0.014709  0.003679\n",
            "3                                             weekday    0.014579  0.001833\n",
            "13  weather_situation_Mist + Cloudy, Mist + Broken...    0.002565  0.000405\n",
            "2                                             holiday    0.002520  0.000540\n",
            "7                                       season_spring    0.001420  0.000512\n",
            "8                                       season_summer    0.000753  0.000209\n",
            "11  weather_situation_Heavy Rain + Ice Pallets + T...    0.000002  0.000010\n"
          ]
        }
      ],
      "source": [
        "df = pd.DataFrame({'feature' : train_x.columns,\n",
        "                   'importance': importance,\n",
        "                   'std'        :std})\n",
        "print(df.sort_values('importance', ascending = False))"
      ]
    },
    {
      "cell_type": "code",
      "execution_count": 46,
      "metadata": {
        "colab": {
          "base_uri": "https://localhost:8080/",
          "height": 751
        },
        "id": "vjKiekCoGFWx",
        "outputId": "17c47fc6-428c-4172-bc03-3cb4d0cf94b3"
      },
      "outputs": [
        {
          "data": {
            "text/plain": [
              "Text(0.5, 1.0, 'Visualizing Important Features')"
            ]
          },
          "execution_count": 46,
          "metadata": {},
          "output_type": "execute_result"
        },
        {
          "data": {
            "image/png": "[encoded data removed]",
            "text/plain": [
              "<Figure size 1080x720 with 1 Axes>"
            ]
          },
          "metadata": {},
          "output_type": "display_data"
        }
      ],
      "source": [
        "feature_imp = pd.Series(rf_count.feature_importances_, index= train_x.columns).sort_values(ascending=False)\n",
        "plt.figure(figsize = (15, 10))\n",
        "sns.barplot(x=feature_imp[:20], y=feature_imp[:20].index)\n",
        "plt.xlabel('Feature Importance Score')\n",
        "plt.ylabel('Features')\n",
        "plt.title(\"Visualizing Important Features\")"
      ]
    },
    {
      "cell_type": "code",
      "execution_count": 47,
      "metadata": {},
      "outputs": [
        {
          "data": {
            "text/plain": [
              "array([6.19360398, 4.99333537, 3.4890254 , ..., 5.48839218, 5.22052433,\n",
              "       5.25398003])"
            ]
          },
          "execution_count": 47,
          "metadata": {},
          "output_type": "execute_result"
        }
      ],
      "source": [
        "rf_count.predict(valid_x)"
      ]
    },
    {
      "cell_type": "code",
      "execution_count": 48,
      "metadata": {
        "colab": {
          "base_uri": "https://localhost:8080/",
          "height": 0
        },
        "id": "Zf20g-AlGFWx",
        "outputId": "8e4d65ed-faef-4aba-c270-4f109b35e66f"
      },
      "outputs": [
        {
          "name": "stdout",
          "output_type": "stream",
          "text": [
            "\n",
            "Regression statistics\n",
            "\n",
            "                      Mean Error (ME) : -0.0013\n",
            "       Root Mean Squared Error (RMSE) : 0.1409\n",
            "            Mean Absolute Error (MAE) : 0.1051\n",
            "          Mean Percentage Error (MPE) : -0.7312\n",
            "Mean Absolute Percentage Error (MAPE) : 3.1810\n"
          ]
        }
      ],
      "source": [
        "regressionSummary(train_y, rf_count.predict(train_x))"
      ]
    },
    {
      "cell_type": "code",
      "execution_count": 49,
      "metadata": {
        "colab": {
          "base_uri": "https://localhost:8080/",
          "height": 0
        },
        "id": "ZC8cOL-9GFWx",
        "outputId": "248b71ad-5409-4d41-e1b0-02e0c80088f1"
      },
      "outputs": [
        {
          "name": "stdout",
          "output_type": "stream",
          "text": [
            "\n",
            "Regression statistics\n",
            "\n",
            "                      Mean Error (ME) : -0.0042\n",
            "       Root Mean Squared Error (RMSE) : 0.3979\n",
            "            Mean Absolute Error (MAE) : 0.2955\n",
            "          Mean Percentage Error (MPE) : -2.2889\n",
            "Mean Absolute Percentage Error (MAPE) : 9.3627\n"
          ]
        }
      ],
      "source": [
        "regressionSummary(valid_y, rf_count.predict(valid_x))"
      ]
    },
    {
      "cell_type": "code",
      "execution_count": 50,
      "metadata": {
        "colab": {
          "base_uri": "https://localhost:8080/",
          "height": 0
        },
        "id": "m5o5Rk2xGFWx",
        "outputId": "4f94ca21-7acc-426b-a029-7e63bc70b561"
      },
      "outputs": [
        {
          "name": "stdout",
          "output_type": "stream",
          "text": [
            "0.14085278514416058\n",
            "0.39790920397768065\n"
          ]
        }
      ],
      "source": [
        "print(np.sqrt(mean_squared_error(train_y, rf_count.predict(train_x))))\n",
        "print(np.sqrt(mean_squared_error(valid_y, rf_count.predict(valid_x))))"
      ]
    },
    {
      "cell_type": "code",
      "execution_count": 51,
      "metadata": {},
      "outputs": [
        {
          "data": {
            "text/plain": [
              "0.923854671139885"
            ]
          },
          "execution_count": 51,
          "metadata": {},
          "output_type": "execute_result"
        }
      ],
      "source": [
        "r2_score(valid_y, rf_count.predict(valid_x))"
      ]
    },
    {
      "cell_type": "code",
      "execution_count": 52,
      "metadata": {},
      "outputs": [
        {
          "data": {
            "text/plain": [
              "<matplotlib.collections.PathCollection at 0x242c252ed10>"
            ]
          },
          "execution_count": 52,
          "metadata": {},
          "output_type": "execute_result"
        },
        {
          "data": {
            "image/png": "[encoded data removed]",
            "text/plain": [
              "<Figure size 432x288 with 1 Axes>"
            ]
          },
          "metadata": {},
          "output_type": "display_data"
        }
      ],
      "source": [
        "plt.scatter(valid_y, rf_count.predict(valid_x))"
      ]
    },
    {
      "cell_type": "markdown",
      "metadata": {},
      "source": [
        "# Polynomial Regression of 'count'"
      ]
    },
    {
      "cell_type": "code",
      "execution_count": 53,
      "metadata": {},
      "outputs": [],
      "source": [
        "x= dummified_df.drop('count',axis=1)\n",
        "y= dummified_df['count']\n",
        "poly = PolynomialFeatures(degree=2, include_bias=True)\n",
        "poly_features = poly.fit_transform(x)"
      ]
    },
    {
      "cell_type": "code",
      "execution_count": 54,
      "metadata": {},
      "outputs": [],
      "source": [
        "train_x,valid_x, train_y, valid_y = train_test_split(poly_features, y, test_size=.3, random_state=10)"
      ]
    },
    {
      "cell_type": "code",
      "execution_count": 55,
      "metadata": {},
      "outputs": [
        {
          "data": {
            "text/plain": [
              "LinearRegression()"
            ]
          },
          "execution_count": 55,
          "metadata": {},
          "output_type": "execute_result"
        }
      ],
      "source": [
        "hour_lm_count.fit(train_x, train_y)"
      ]
    },
    {
      "cell_type": "code",
      "execution_count": 56,
      "metadata": {},
      "outputs": [],
      "source": [
        "y_predicted_count = hour_lm_count.predict(valid_x)"
      ]
    },
    {
      "cell_type": "code",
      "execution_count": 57,
      "metadata": {},
      "outputs": [
        {
          "data": {
            "image/png": "[encoded data removed]",
            "text/plain": [
              "<Figure size 576x360 with 1 Axes>"
            ]
          },
          "metadata": {},
          "output_type": "display_data"
        }
      ],
      "source": [
        "plt.figure(figsize=(8, 5))\n",
        "plt.title(\"polynomial of count\", size=10)\n",
        "plt.scatter(valid_y, y_predicted_count)\n",
        "plt.show()"
      ]
    },
    {
      "cell_type": "code",
      "execution_count": 58,
      "metadata": {},
      "outputs": [
        {
          "name": "stdout",
          "output_type": "stream",
          "text": [
            "\n",
            "Regression statistics\n",
            "\n",
            "                      Mean Error (ME) : -0.0000\n",
            "       Root Mean Squared Error (RMSE) : 0.8649\n",
            "            Mean Absolute Error (MAE) : 0.6481\n",
            "          Mean Percentage Error (MPE) : -8.9197\n",
            "Mean Absolute Percentage Error (MAPE) : 22.0318\n"
          ]
        }
      ],
      "source": [
        "regressionSummary(train_y,hour_lm_count.predict(train_x) )"
      ]
    },
    {
      "cell_type": "code",
      "execution_count": 59,
      "metadata": {},
      "outputs": [
        {
          "name": "stdout",
          "output_type": "stream",
          "text": [
            "\n",
            "Regression statistics\n",
            "\n",
            "                      Mean Error (ME) : -0.0235\n",
            "       Root Mean Squared Error (RMSE) : 0.8959\n",
            "            Mean Absolute Error (MAE) : 0.6737\n",
            "          Mean Percentage Error (MPE) : -10.4421\n",
            "Mean Absolute Percentage Error (MAPE) : 23.6164\n"
          ]
        }
      ],
      "source": [
        "regressionSummary(valid_y, y_predicted_count)"
      ]
    },
    {
      "cell_type": "code",
      "execution_count": 60,
      "metadata": {},
      "outputs": [
        {
          "data": {
            "text/plain": [
              "0.6140222779705209"
            ]
          },
          "execution_count": 60,
          "metadata": {},
          "output_type": "execute_result"
        }
      ],
      "source": [
        "r2_score(valid_y, y_predicted_count)"
      ]
    },
    {
      "cell_type": "markdown",
      "metadata": {
        "id": "Fc4z5qRKGFWz"
      },
      "source": [
        "# Linear Regression for \"casual\""
      ]
    },
    {
      "cell_type": "code",
      "execution_count": 61,
      "metadata": {},
      "outputs": [
        {
          "data": {
            "text/plain": [
              "2.499236891330847"
            ]
          },
          "execution_count": 61,
          "metadata": {},
          "output_type": "execute_result"
        }
      ],
      "source": [
        "hour_df['casual'].skew()"
      ]
    },
    {
      "cell_type": "code",
      "execution_count": 62,
      "metadata": {},
      "outputs": [],
      "source": [
        "hour_df['casual'] = np.log(hour_df['casual'] + 1)"
      ]
    },
    {
      "cell_type": "code",
      "execution_count": 63,
      "metadata": {
        "id": "OuAOQPu8GFWz"
      },
      "outputs": [],
      "source": [
        "x= dummified_df.drop('count',axis=1)\n",
        "y= hour_df['casual']"
      ]
    },
    {
      "cell_type": "code",
      "execution_count": 64,
      "metadata": {
        "id": "JhKlSgq2GFWz"
      },
      "outputs": [],
      "source": [
        "train_x,valid_x, train_y, valid_y = train_test_split(x, y, test_size=.3, random_state=10)"
      ]
    },
    {
      "cell_type": "code",
      "execution_count": 65,
      "metadata": {
        "colab": {
          "base_uri": "https://localhost:8080/",
          "height": 0
        },
        "id": "D_1izLrKGFWz",
        "outputId": "9e241b69-231c-4cff-a142-06814aab09e2"
      },
      "outputs": [
        {
          "data": {
            "text/plain": [
              "LinearRegression()"
            ]
          },
          "execution_count": 65,
          "metadata": {},
          "output_type": "execute_result"
        }
      ],
      "source": [
        "hour_lm_casual=LinearRegression()\n",
        "hour_lm_casual.fit(train_x,train_y)"
      ]
    },
    {
      "cell_type": "code",
      "execution_count": 66,
      "metadata": {
        "colab": {
          "base_uri": "https://localhost:8080/",
          "height": 0
        },
        "id": "PVt7hDu1GFWz",
        "outputId": "3f82252b-dd2c-48c8-81b4-983dd57c86b0"
      },
      "outputs": [
        {
          "name": "stdout",
          "output_type": "stream",
          "text": [
            "\n",
            "Regression statistics\n",
            "\n",
            "               Mean Error (ME) : 0.0000\n",
            "Root Mean Squared Error (RMSE) : 0.9283\n",
            "     Mean Absolute Error (MAE) : 0.7471\n"
          ]
        }
      ],
      "source": [
        "regressionSummary(train_y, hour_lm_casual.predict(train_x))"
      ]
    },
    {
      "cell_type": "code",
      "execution_count": 67,
      "metadata": {},
      "outputs": [
        {
          "data": {
            "text/plain": [
              "1.5865199579646023"
            ]
          },
          "execution_count": 67,
          "metadata": {},
          "output_type": "execute_result"
        }
      ],
      "source": [
        "hour_lm_casual.intercept_"
      ]
    },
    {
      "cell_type": "code",
      "execution_count": 68,
      "metadata": {},
      "outputs": [
        {
          "data": {
            "text/plain": [
              "array([ 0.0092328 ,  0.07363979, -0.2442284 ,  0.00809924,  4.25123554,\n",
              "       -1.94359737,  0.06956664, -0.09017157, -0.55335139, -0.36768683,\n",
              "       -0.69866403, -0.18936098, -0.25817114,  0.1667712 ])"
            ]
          },
          "execution_count": 68,
          "metadata": {},
          "output_type": "execute_result"
        }
      ],
      "source": [
        "hour_lm_casual.coef_"
      ]
    },
    {
      "cell_type": "code",
      "execution_count": 69,
      "metadata": {},
      "outputs": [
        {
          "data": {
            "text/plain": [
              "array([3.00002246, 2.60401057, 3.48993578, ..., 1.71481024, 2.82101187,\n",
              "       3.26816646])"
            ]
          },
          "execution_count": 69,
          "metadata": {},
          "output_type": "execute_result"
        }
      ],
      "source": [
        "pred_y = hour_lm_casual.predict(train_x)\n",
        "pred_y"
      ]
    },
    {
      "cell_type": "code",
      "execution_count": 70,
      "metadata": {},
      "outputs": [],
      "source": [
        "result = pd.DataFrame({'predicted': pred_y,\n",
        "                       'actual': train_y,\n",
        "                       'residuals': train_y - pred_y})"
      ]
    },
    {
      "cell_type": "code",
      "execution_count": 71,
      "metadata": {},
      "outputs": [
        {
          "data": {
            "text/html": [
              "<div>\n",
              "<style scoped>\n",
              "    .dataframe tbody tr th:only-of-type {\n",
              "        vertical-align: middle;\n",
              "    }\n",
              "\n",
              "    .dataframe tbody tr th {\n",
              "        vertical-align: top;\n",
              "    }\n",
              "\n",
              "    .dataframe thead th {\n",
              "        text-align: right;\n",
              "    }\n",
              "</style>\n",
              "<table border=\"1\" class=\"dataframe\">\n",
              "  <thead>\n",
              "    <tr style=\"text-align: right;\">\n",
              "      <th></th>\n",
              "      <th>predicted</th>\n",
              "      <th>actual</th>\n",
              "      <th>residuals</th>\n",
              "    </tr>\n",
              "  </thead>\n",
              "  <tbody>\n",
              "    <tr>\n",
              "      <th>16745</th>\n",
              "      <td>3.000022</td>\n",
              "      <td>3.218876</td>\n",
              "      <td>0.218853</td>\n",
              "    </tr>\n",
              "    <tr>\n",
              "      <th>517</th>\n",
              "      <td>2.604011</td>\n",
              "      <td>2.302585</td>\n",
              "      <td>-0.301425</td>\n",
              "    </tr>\n",
              "    <tr>\n",
              "      <th>11296</th>\n",
              "      <td>3.489936</td>\n",
              "      <td>3.583519</td>\n",
              "      <td>0.093583</td>\n",
              "    </tr>\n",
              "    <tr>\n",
              "      <th>4726</th>\n",
              "      <td>3.855094</td>\n",
              "      <td>3.828641</td>\n",
              "      <td>-0.026453</td>\n",
              "    </tr>\n",
              "    <tr>\n",
              "      <th>8585</th>\n",
              "      <td>1.737985</td>\n",
              "      <td>2.564949</td>\n",
              "      <td>0.826965</td>\n",
              "    </tr>\n",
              "    <tr>\n",
              "      <th>...</th>\n",
              "      <td>...</td>\n",
              "      <td>...</td>\n",
              "      <td>...</td>\n",
              "    </tr>\n",
              "    <tr>\n",
              "      <th>4829</th>\n",
              "      <td>2.238625</td>\n",
              "      <td>1.098612</td>\n",
              "      <td>-1.140013</td>\n",
              "    </tr>\n",
              "    <tr>\n",
              "      <th>10201</th>\n",
              "      <td>0.578702</td>\n",
              "      <td>0.000000</td>\n",
              "      <td>-0.578702</td>\n",
              "    </tr>\n",
              "    <tr>\n",
              "      <th>9372</th>\n",
              "      <td>1.714810</td>\n",
              "      <td>3.555348</td>\n",
              "      <td>1.840538</td>\n",
              "    </tr>\n",
              "    <tr>\n",
              "      <th>7291</th>\n",
              "      <td>2.821012</td>\n",
              "      <td>4.043051</td>\n",
              "      <td>1.222039</td>\n",
              "    </tr>\n",
              "    <tr>\n",
              "      <th>7293</th>\n",
              "      <td>3.268166</td>\n",
              "      <td>4.927254</td>\n",
              "      <td>1.659087</td>\n",
              "    </tr>\n",
              "  </tbody>\n",
              "</table>\n",
              "<p>12165 rows × 3 columns</p>\n",
              "</div>"
            ],
            "text/plain": [
              "       predicted    actual  residuals\n",
              "16745   3.000022  3.218876   0.218853\n",
              "517     2.604011  2.302585  -0.301425\n",
              "11296   3.489936  3.583519   0.093583\n",
              "4726    3.855094  3.828641  -0.026453\n",
              "8585    1.737985  2.564949   0.826965\n",
              "...          ...       ...        ...\n",
              "4829    2.238625  1.098612  -1.140013\n",
              "10201   0.578702  0.000000  -0.578702\n",
              "9372    1.714810  3.555348   1.840538\n",
              "7291    2.821012  4.043051   1.222039\n",
              "7293    3.268166  4.927254   1.659087\n",
              "\n",
              "[12165 rows x 3 columns]"
            ]
          },
          "execution_count": 71,
          "metadata": {},
          "output_type": "execute_result"
        }
      ],
      "source": [
        "result"
      ]
    },
    {
      "cell_type": "code",
      "execution_count": 72,
      "metadata": {},
      "outputs": [
        {
          "data": {
            "text/plain": [
              "(5214,)"
            ]
          },
          "execution_count": 72,
          "metadata": {},
          "output_type": "execute_result"
        }
      ],
      "source": [
        "hour_lm_predict_casual = hour_lm_casual.predict(valid_x)\n",
        "hour_lm_predict_casual.shape"
      ]
    },
    {
      "cell_type": "code",
      "execution_count": 73,
      "metadata": {},
      "outputs": [],
      "source": [
        "result = pd.DataFrame({'predicted': hour_lm_predict_casual,\n",
        "                       'actual' : valid_y,\n",
        "                       'residual': valid_y - hour_lm_predict_casual})"
      ]
    },
    {
      "cell_type": "code",
      "execution_count": 74,
      "metadata": {},
      "outputs": [
        {
          "data": {
            "text/html": [
              "<div>\n",
              "<style scoped>\n",
              "    .dataframe tbody tr th:only-of-type {\n",
              "        vertical-align: middle;\n",
              "    }\n",
              "\n",
              "    .dataframe tbody tr th {\n",
              "        vertical-align: top;\n",
              "    }\n",
              "\n",
              "    .dataframe thead th {\n",
              "        text-align: right;\n",
              "    }\n",
              "</style>\n",
              "<table border=\"1\" class=\"dataframe\">\n",
              "  <thead>\n",
              "    <tr style=\"text-align: right;\">\n",
              "      <th></th>\n",
              "      <th>predicted</th>\n",
              "      <th>actual</th>\n",
              "      <th>residual</th>\n",
              "    </tr>\n",
              "  </thead>\n",
              "  <tbody>\n",
              "    <tr>\n",
              "      <th>6557</th>\n",
              "      <td>3.790282</td>\n",
              "      <td>3.713572</td>\n",
              "      <td>-0.076710</td>\n",
              "    </tr>\n",
              "    <tr>\n",
              "      <th>11737</th>\n",
              "      <td>2.154352</td>\n",
              "      <td>1.791759</td>\n",
              "      <td>-0.362592</td>\n",
              "    </tr>\n",
              "    <tr>\n",
              "      <th>4952</th>\n",
              "      <td>3.309369</td>\n",
              "      <td>1.945910</td>\n",
              "      <td>-1.363459</td>\n",
              "    </tr>\n",
              "    <tr>\n",
              "      <th>2853</th>\n",
              "      <td>4.067111</td>\n",
              "      <td>3.761200</td>\n",
              "      <td>-0.305911</td>\n",
              "    </tr>\n",
              "    <tr>\n",
              "      <th>3697</th>\n",
              "      <td>3.925663</td>\n",
              "      <td>2.944439</td>\n",
              "      <td>-0.981224</td>\n",
              "    </tr>\n",
              "    <tr>\n",
              "      <th>7305</th>\n",
              "      <td>1.420729</td>\n",
              "      <td>2.397895</td>\n",
              "      <td>0.977167</td>\n",
              "    </tr>\n",
              "    <tr>\n",
              "      <th>15922</th>\n",
              "      <td>1.511902</td>\n",
              "      <td>1.791759</td>\n",
              "      <td>0.279858</td>\n",
              "    </tr>\n",
              "    <tr>\n",
              "      <th>17084</th>\n",
              "      <td>2.960993</td>\n",
              "      <td>3.367296</td>\n",
              "      <td>0.406302</td>\n",
              "    </tr>\n",
              "    <tr>\n",
              "      <th>15165</th>\n",
              "      <td>3.255090</td>\n",
              "      <td>2.564949</td>\n",
              "      <td>-0.690141</td>\n",
              "    </tr>\n",
              "    <tr>\n",
              "      <th>8756</th>\n",
              "      <td>2.629386</td>\n",
              "      <td>2.995732</td>\n",
              "      <td>0.366346</td>\n",
              "    </tr>\n",
              "  </tbody>\n",
              "</table>\n",
              "</div>"
            ],
            "text/plain": [
              "       predicted    actual  residual\n",
              "6557    3.790282  3.713572 -0.076710\n",
              "11737   2.154352  1.791759 -0.362592\n",
              "4952    3.309369  1.945910 -1.363459\n",
              "2853    4.067111  3.761200 -0.305911\n",
              "3697    3.925663  2.944439 -0.981224\n",
              "7305    1.420729  2.397895  0.977167\n",
              "15922   1.511902  1.791759  0.279858\n",
              "17084   2.960993  3.367296  0.406302\n",
              "15165   3.255090  2.564949 -0.690141\n",
              "8756    2.629386  2.995732  0.366346"
            ]
          },
          "execution_count": 74,
          "metadata": {},
          "output_type": "execute_result"
        }
      ],
      "source": [
        "result.head(10)"
      ]
    },
    {
      "cell_type": "code",
      "execution_count": 75,
      "metadata": {},
      "outputs": [
        {
          "name": "stdout",
          "output_type": "stream",
          "text": [
            "\n",
            "Regression statistics\n",
            "\n",
            "               Mean Error (ME) : 0.0000\n",
            "Root Mean Squared Error (RMSE) : 0.9283\n",
            "     Mean Absolute Error (MAE) : 0.7471\n"
          ]
        }
      ],
      "source": [
        "regressionSummary(train_y, pred_y)"
      ]
    },
    {
      "cell_type": "code",
      "execution_count": 76,
      "metadata": {},
      "outputs": [
        {
          "name": "stdout",
          "output_type": "stream",
          "text": [
            "\n",
            "Regression statistics\n",
            "\n",
            "               Mean Error (ME) : -0.0146\n",
            "Root Mean Squared Error (RMSE) : 0.9461\n",
            "     Mean Absolute Error (MAE) : 0.7610\n"
          ]
        }
      ],
      "source": [
        "regressionSummary(valid_y, hour_lm_predict_casual)"
      ]
    },
    {
      "cell_type": "code",
      "execution_count": 77,
      "metadata": {},
      "outputs": [
        {
          "data": {
            "text/plain": [
              "0.6081707286098625"
            ]
          },
          "execution_count": 77,
          "metadata": {},
          "output_type": "execute_result"
        }
      ],
      "source": [
        "adjusted_r2_score(train_y, pred_y, hour_lm_casual)"
      ]
    },
    {
      "cell_type": "code",
      "execution_count": 78,
      "metadata": {},
      "outputs": [
        {
          "data": {
            "text/plain": [
              "0.6032221768630344"
            ]
          },
          "execution_count": 78,
          "metadata": {},
          "output_type": "execute_result"
        }
      ],
      "source": [
        "adjusted_r2_score(valid_y, hour_lm_predict_casual, hour_lm_casual)"
      ]
    },
    {
      "cell_type": "code",
      "execution_count": 79,
      "metadata": {},
      "outputs": [
        {
          "data": {
            "text/plain": [
              "0.6042877608883399"
            ]
          },
          "execution_count": 79,
          "metadata": {},
          "output_type": "execute_result"
        }
      ],
      "source": [
        "r2_score(valid_y, hour_lm_casual.predict(valid_x))"
      ]
    },
    {
      "cell_type": "code",
      "execution_count": 80,
      "metadata": {
        "colab": {
          "base_uri": "https://localhost:8080/",
          "height": 284
        },
        "id": "oVmlNVzqGFW0",
        "outputId": "483a343a-a116-4696-92a5-5afdc1e41140"
      },
      "outputs": [
        {
          "data": {
            "text/plain": [
              "<matplotlib.collections.PathCollection at 0x242c252f850>"
            ]
          },
          "execution_count": 80,
          "metadata": {},
          "output_type": "execute_result"
        },
        {
          "data": {
            "image/png": "[encoded data removed]",
            "text/plain": [
              "<Figure size 432x288 with 1 Axes>"
            ]
          },
          "metadata": {},
          "output_type": "display_data"
        }
      ],
      "source": [
        "plt.scatter(result['actual'], result['predicted'])"
      ]
    },
    {
      "cell_type": "code",
      "execution_count": 81,
      "metadata": {},
      "outputs": [
        {
          "name": "stdout",
          "output_type": "stream",
          "text": [
            "                                                    Coefficient value of casual\n",
            "month                                                                  0.009233\n",
            "hour                                                                   0.073640\n",
            "holiday                                                               -0.244228\n",
            "weekday                                                                0.008099\n",
            "temp                                                                   4.251236\n",
            "humidity                                                              -1.943597\n",
            "windspeed                                                              0.069567\n",
            "season_spring                                                         -0.090172\n",
            "season_summer                                                         -0.553351\n",
            "season_winter                                                         -0.367687\n",
            "workingday_1                                                          -0.698664\n",
            "weather_situation_Heavy Rain + Ice Pallets + Th...                    -0.189361\n",
            "weather_situation_Light Snow, Light Rain + Thun...                    -0.258171\n",
            "weather_situation_Mist + Cloudy, Mist + Broken ...                     0.166771\n"
          ]
        }
      ],
      "source": [
        "feature_names_casual = x.columns\n",
        "model_coefficients_1 = hour_lm_casual.coef_\n",
        "\n",
        "coefficients_df_1 = pd.DataFrame(data = model_coefficients_1, \n",
        "                              index = feature_names_casual, \n",
        "                              columns = ['Coefficient value of casual'])\n",
        "print(coefficients_df_1)"
      ]
    },
    {
      "cell_type": "code",
      "execution_count": 82,
      "metadata": {},
      "outputs": [],
      "source": [
        "coefficients_df_1.sort_values(by = 'Coefficient value of casual', ascending = False, inplace = True)"
      ]
    },
    {
      "cell_type": "code",
      "execution_count": 83,
      "metadata": {},
      "outputs": [
        {
          "data": {
            "text/plain": [
              "<AxesSubplot:>"
            ]
          },
          "execution_count": 83,
          "metadata": {},
          "output_type": "execute_result"
        },
        {
          "data": {
            "image/png": "[encoded data removed]",
            "text/plain": [
              "<Figure size 432x288 with 1 Axes>"
            ]
          },
          "metadata": {},
          "output_type": "display_data"
        }
      ],
      "source": [
        "coefficients_df_1.plot(kind = 'barh', colormap='winter')"
      ]
    },
    {
      "cell_type": "markdown",
      "metadata": {},
      "source": [
        "# Random Forest of 'casual'"
      ]
    },
    {
      "cell_type": "code",
      "execution_count": 84,
      "metadata": {},
      "outputs": [],
      "source": [
        "excluded_columns_casual = ['atemp','count','registered']\n",
        "hour_df_final_1 = hour_df.drop(excluded_columns_casual, axis=1)"
      ]
    },
    {
      "cell_type": "code",
      "execution_count": 85,
      "metadata": {},
      "outputs": [
        {
          "data": {
            "text/html": [
              "<div>\n",
              "<style scoped>\n",
              "    .dataframe tbody tr th:only-of-type {\n",
              "        vertical-align: middle;\n",
              "    }\n",
              "\n",
              "    .dataframe tbody tr th {\n",
              "        vertical-align: top;\n",
              "    }\n",
              "\n",
              "    .dataframe thead th {\n",
              "        text-align: right;\n",
              "    }\n",
              "</style>\n",
              "<table border=\"1\" class=\"dataframe\">\n",
              "  <thead>\n",
              "    <tr style=\"text-align: right;\">\n",
              "      <th></th>\n",
              "      <th>month</th>\n",
              "      <th>hour</th>\n",
              "      <th>holiday</th>\n",
              "      <th>weekday</th>\n",
              "      <th>temp</th>\n",
              "      <th>humidity</th>\n",
              "      <th>windspeed</th>\n",
              "      <th>casual</th>\n",
              "      <th>season_spring</th>\n",
              "      <th>season_summer</th>\n",
              "      <th>season_winter</th>\n",
              "      <th>workingday_1</th>\n",
              "      <th>weather_situation_Heavy Rain + Ice Pallets + Thunderstorm + Mist, Snow + Fog</th>\n",
              "      <th>weather_situation_Light Snow, Light Rain + Thunderstorm + Scattered clouds, Light Rain + Scattered clouds</th>\n",
              "      <th>weather_situation_Mist + Cloudy, Mist + Broken clouds, Mist + Few clouds, Mist</th>\n",
              "    </tr>\n",
              "  </thead>\n",
              "  <tbody>\n",
              "    <tr>\n",
              "      <th>0</th>\n",
              "      <td>1</td>\n",
              "      <td>0</td>\n",
              "      <td>0</td>\n",
              "      <td>6</td>\n",
              "      <td>0.24</td>\n",
              "      <td>0.81</td>\n",
              "      <td>0.0000</td>\n",
              "      <td>1.386294</td>\n",
              "      <td>0</td>\n",
              "      <td>0</td>\n",
              "      <td>1</td>\n",
              "      <td>0</td>\n",
              "      <td>0</td>\n",
              "      <td>0</td>\n",
              "      <td>0</td>\n",
              "    </tr>\n",
              "    <tr>\n",
              "      <th>1</th>\n",
              "      <td>1</td>\n",
              "      <td>1</td>\n",
              "      <td>0</td>\n",
              "      <td>6</td>\n",
              "      <td>0.22</td>\n",
              "      <td>0.80</td>\n",
              "      <td>0.0000</td>\n",
              "      <td>2.197225</td>\n",
              "      <td>0</td>\n",
              "      <td>0</td>\n",
              "      <td>1</td>\n",
              "      <td>0</td>\n",
              "      <td>0</td>\n",
              "      <td>0</td>\n",
              "      <td>0</td>\n",
              "    </tr>\n",
              "    <tr>\n",
              "      <th>2</th>\n",
              "      <td>1</td>\n",
              "      <td>2</td>\n",
              "      <td>0</td>\n",
              "      <td>6</td>\n",
              "      <td>0.22</td>\n",
              "      <td>0.80</td>\n",
              "      <td>0.0000</td>\n",
              "      <td>1.791759</td>\n",
              "      <td>0</td>\n",
              "      <td>0</td>\n",
              "      <td>1</td>\n",
              "      <td>0</td>\n",
              "      <td>0</td>\n",
              "      <td>0</td>\n",
              "      <td>0</td>\n",
              "    </tr>\n",
              "    <tr>\n",
              "      <th>3</th>\n",
              "      <td>1</td>\n",
              "      <td>3</td>\n",
              "      <td>0</td>\n",
              "      <td>6</td>\n",
              "      <td>0.24</td>\n",
              "      <td>0.75</td>\n",
              "      <td>0.0000</td>\n",
              "      <td>1.386294</td>\n",
              "      <td>0</td>\n",
              "      <td>0</td>\n",
              "      <td>1</td>\n",
              "      <td>0</td>\n",
              "      <td>0</td>\n",
              "      <td>0</td>\n",
              "      <td>0</td>\n",
              "    </tr>\n",
              "    <tr>\n",
              "      <th>4</th>\n",
              "      <td>1</td>\n",
              "      <td>4</td>\n",
              "      <td>0</td>\n",
              "      <td>6</td>\n",
              "      <td>0.24</td>\n",
              "      <td>0.75</td>\n",
              "      <td>0.0000</td>\n",
              "      <td>0.000000</td>\n",
              "      <td>0</td>\n",
              "      <td>0</td>\n",
              "      <td>1</td>\n",
              "      <td>0</td>\n",
              "      <td>0</td>\n",
              "      <td>0</td>\n",
              "      <td>0</td>\n",
              "    </tr>\n",
              "    <tr>\n",
              "      <th>...</th>\n",
              "      <td>...</td>\n",
              "      <td>...</td>\n",
              "      <td>...</td>\n",
              "      <td>...</td>\n",
              "      <td>...</td>\n",
              "      <td>...</td>\n",
              "      <td>...</td>\n",
              "      <td>...</td>\n",
              "      <td>...</td>\n",
              "      <td>...</td>\n",
              "      <td>...</td>\n",
              "      <td>...</td>\n",
              "      <td>...</td>\n",
              "      <td>...</td>\n",
              "      <td>...</td>\n",
              "    </tr>\n",
              "    <tr>\n",
              "      <th>17374</th>\n",
              "      <td>12</td>\n",
              "      <td>19</td>\n",
              "      <td>0</td>\n",
              "      <td>1</td>\n",
              "      <td>0.26</td>\n",
              "      <td>0.60</td>\n",
              "      <td>0.1642</td>\n",
              "      <td>2.484907</td>\n",
              "      <td>0</td>\n",
              "      <td>0</td>\n",
              "      <td>1</td>\n",
              "      <td>1</td>\n",
              "      <td>0</td>\n",
              "      <td>0</td>\n",
              "      <td>1</td>\n",
              "    </tr>\n",
              "    <tr>\n",
              "      <th>17375</th>\n",
              "      <td>12</td>\n",
              "      <td>20</td>\n",
              "      <td>0</td>\n",
              "      <td>1</td>\n",
              "      <td>0.26</td>\n",
              "      <td>0.60</td>\n",
              "      <td>0.1642</td>\n",
              "      <td>2.197225</td>\n",
              "      <td>0</td>\n",
              "      <td>0</td>\n",
              "      <td>1</td>\n",
              "      <td>1</td>\n",
              "      <td>0</td>\n",
              "      <td>0</td>\n",
              "      <td>1</td>\n",
              "    </tr>\n",
              "    <tr>\n",
              "      <th>17376</th>\n",
              "      <td>12</td>\n",
              "      <td>21</td>\n",
              "      <td>0</td>\n",
              "      <td>1</td>\n",
              "      <td>0.26</td>\n",
              "      <td>0.60</td>\n",
              "      <td>0.1642</td>\n",
              "      <td>2.079442</td>\n",
              "      <td>0</td>\n",
              "      <td>0</td>\n",
              "      <td>1</td>\n",
              "      <td>1</td>\n",
              "      <td>0</td>\n",
              "      <td>0</td>\n",
              "      <td>0</td>\n",
              "    </tr>\n",
              "    <tr>\n",
              "      <th>17377</th>\n",
              "      <td>12</td>\n",
              "      <td>22</td>\n",
              "      <td>0</td>\n",
              "      <td>1</td>\n",
              "      <td>0.26</td>\n",
              "      <td>0.56</td>\n",
              "      <td>0.1343</td>\n",
              "      <td>2.639057</td>\n",
              "      <td>0</td>\n",
              "      <td>0</td>\n",
              "      <td>1</td>\n",
              "      <td>1</td>\n",
              "      <td>0</td>\n",
              "      <td>0</td>\n",
              "      <td>0</td>\n",
              "    </tr>\n",
              "    <tr>\n",
              "      <th>17378</th>\n",
              "      <td>12</td>\n",
              "      <td>23</td>\n",
              "      <td>0</td>\n",
              "      <td>1</td>\n",
              "      <td>0.26</td>\n",
              "      <td>0.65</td>\n",
              "      <td>0.1343</td>\n",
              "      <td>2.564949</td>\n",
              "      <td>0</td>\n",
              "      <td>0</td>\n",
              "      <td>1</td>\n",
              "      <td>1</td>\n",
              "      <td>0</td>\n",
              "      <td>0</td>\n",
              "      <td>0</td>\n",
              "    </tr>\n",
              "  </tbody>\n",
              "</table>\n",
              "<p>17379 rows × 15 columns</p>\n",
              "</div>"
            ],
            "text/plain": [
              "       month  hour  holiday  weekday  temp  humidity  windspeed    casual  \\\n",
              "0          1     0        0        6  0.24      0.81     0.0000  1.386294   \n",
              "1          1     1        0        6  0.22      0.80     0.0000  2.197225   \n",
              "2          1     2        0        6  0.22      0.80     0.0000  1.791759   \n",
              "3          1     3        0        6  0.24      0.75     0.0000  1.386294   \n",
              "4          1     4        0        6  0.24      0.75     0.0000  0.000000   \n",
              "...      ...   ...      ...      ...   ...       ...        ...       ...   \n",
              "17374     12    19        0        1  0.26      0.60     0.1642  2.484907   \n",
              "17375     12    20        0        1  0.26      0.60     0.1642  2.197225   \n",
              "17376     12    21        0        1  0.26      0.60     0.1642  2.079442   \n",
              "17377     12    22        0        1  0.26      0.56     0.1343  2.639057   \n",
              "17378     12    23        0        1  0.26      0.65     0.1343  2.564949   \n",
              "\n",
              "       season_spring  season_summer  season_winter  workingday_1  \\\n",
              "0                  0              0              1             0   \n",
              "1                  0              0              1             0   \n",
              "2                  0              0              1             0   \n",
              "3                  0              0              1             0   \n",
              "4                  0              0              1             0   \n",
              "...              ...            ...            ...           ...   \n",
              "17374              0              0              1             1   \n",
              "17375              0              0              1             1   \n",
              "17376              0              0              1             1   \n",
              "17377              0              0              1             1   \n",
              "17378              0              0              1             1   \n",
              "\n",
              "       weather_situation_Heavy Rain + Ice Pallets + Thunderstorm + Mist, Snow + Fog  \\\n",
              "0                                                      0                              \n",
              "1                                                      0                              \n",
              "2                                                      0                              \n",
              "3                                                      0                              \n",
              "4                                                      0                              \n",
              "...                                                  ...                              \n",
              "17374                                                  0                              \n",
              "17375                                                  0                              \n",
              "17376                                                  0                              \n",
              "17377                                                  0                              \n",
              "17378                                                  0                              \n",
              "\n",
              "       weather_situation_Light Snow, Light Rain + Thunderstorm + Scattered clouds, Light Rain + Scattered clouds  \\\n",
              "0                                                      0                                                           \n",
              "1                                                      0                                                           \n",
              "2                                                      0                                                           \n",
              "3                                                      0                                                           \n",
              "4                                                      0                                                           \n",
              "...                                                  ...                                                           \n",
              "17374                                                  0                                                           \n",
              "17375                                                  0                                                           \n",
              "17376                                                  0                                                           \n",
              "17377                                                  0                                                           \n",
              "17378                                                  0                                                           \n",
              "\n",
              "       weather_situation_Mist + Cloudy, Mist + Broken clouds, Mist + Few clouds, Mist  \n",
              "0                                                      0                               \n",
              "1                                                      0                               \n",
              "2                                                      0                               \n",
              "3                                                      0                               \n",
              "4                                                      0                               \n",
              "...                                                  ...                               \n",
              "17374                                                  1                               \n",
              "17375                                                  1                               \n",
              "17376                                                  0                               \n",
              "17377                                                  0                               \n",
              "17378                                                  0                               \n",
              "\n",
              "[17379 rows x 15 columns]"
            ]
          },
          "execution_count": 85,
          "metadata": {},
          "output_type": "execute_result"
        }
      ],
      "source": [
        "dummified_df_1 = pd.get_dummies(hour_df_final_1, columns = ['season', 'workingday', 'weather_situation'], drop_first = True)\n",
        "dummified_df_1"
      ]
    },
    {
      "cell_type": "code",
      "execution_count": 86,
      "metadata": {},
      "outputs": [],
      "source": [
        "x= dummified_df_1.drop('casual',axis=1)\n",
        "y= hour_df_final_1['casual']"
      ]
    },
    {
      "cell_type": "code",
      "execution_count": 87,
      "metadata": {},
      "outputs": [
        {
          "data": {
            "text/plain": [
              "RandomForestRegressor(n_estimators=500, random_state=1)"
            ]
          },
          "execution_count": 87,
          "metadata": {},
          "output_type": "execute_result"
        }
      ],
      "source": [
        "rf_casual=RandomForestRegressor(random_state=1, n_estimators=500)\n",
        "rf_casual.fit(train_x, train_y)"
      ]
    },
    {
      "cell_type": "code",
      "execution_count": 88,
      "metadata": {},
      "outputs": [
        {
          "data": {
            "text/plain": [
              "array([2.27677627e-02, 5.52798602e-01, 1.35871736e-03, 1.93202272e-02,\n",
              "       2.36139294e-01, 5.88211859e-02, 2.66186838e-02, 2.45423393e-03,\n",
              "       1.62585931e-03, 7.45220346e-03, 5.16453951e-02, 6.12900565e-06,\n",
              "       1.48942741e-02, 4.09743279e-03])"
            ]
          },
          "execution_count": 88,
          "metadata": {},
          "output_type": "execute_result"
        }
      ],
      "source": [
        "rf_casual.feature_importances_"
      ]
    },
    {
      "cell_type": "code",
      "execution_count": 89,
      "metadata": {},
      "outputs": [],
      "source": [
        "importance = rf_casual.feature_importances_\n",
        "std = np.std([tree.feature_importances_ for tree in rf_casual.estimators_], axis =0)"
      ]
    },
    {
      "cell_type": "code",
      "execution_count": 90,
      "metadata": {},
      "outputs": [
        {
          "name": "stdout",
          "output_type": "stream",
          "text": [
            "                                              feature  importance       std\n",
            "1                                                hour    0.552799  0.007382\n",
            "4                                                temp    0.236139  0.005729\n",
            "5                                            humidity    0.058821  0.006179\n",
            "10                                       workingday_1    0.051645  0.002828\n",
            "6                                           windspeed    0.026619  0.001539\n",
            "0                                               month    0.022768  0.001794\n",
            "3                                             weekday    0.019320  0.001309\n",
            "12  weather_situation_Light Snow, Light Rain + Thu...    0.014894  0.002461\n",
            "9                                       season_winter    0.007452  0.001467\n",
            "13  weather_situation_Mist + Cloudy, Mist + Broken...    0.004097  0.000502\n",
            "7                                       season_spring    0.002454  0.000512\n",
            "8                                       season_summer    0.001626  0.000366\n",
            "2                                             holiday    0.001359  0.000388\n",
            "11  weather_situation_Heavy Rain + Ice Pallets + T...    0.000006  0.000015\n"
          ]
        }
      ],
      "source": [
        "df = pd.DataFrame({'feature' : train_x.columns,\n",
        "                   'importance': importance,\n",
        "                   'std'        :std})\n",
        "print(df.sort_values('importance', ascending = False))"
      ]
    },
    {
      "cell_type": "code",
      "execution_count": 91,
      "metadata": {},
      "outputs": [
        {
          "data": {
            "text/plain": [
              "Text(0.5, 1.0, 'Visualizing Important Features')"
            ]
          },
          "execution_count": 91,
          "metadata": {},
          "output_type": "execute_result"
        },
        {
          "data": {
            "image/png": "[encoded data removed]",
            "text/plain": [
              "<Figure size 1080x720 with 1 Axes>"
            ]
          },
          "metadata": {},
          "output_type": "display_data"
        }
      ],
      "source": [
        "feature_imp = pd.Series(rf_casual.feature_importances_, index= train_x.columns).sort_values(ascending=False)\n",
        "plt.figure(figsize = (15, 10))\n",
        "sns.barplot(x=feature_imp[:20], y=feature_imp[:20].index)\n",
        "plt.xlabel('Feature Importance Score')\n",
        "plt.ylabel('Features')\n",
        "plt.title(\"Visualizing Important Features\")"
      ]
    },
    {
      "cell_type": "code",
      "execution_count": 92,
      "metadata": {},
      "outputs": [
        {
          "data": {
            "text/plain": [
              "array([4.14721322, 1.93824412, 2.16098468, ..., 3.95798943, 4.07651008,\n",
              "       4.09951736])"
            ]
          },
          "execution_count": 92,
          "metadata": {},
          "output_type": "execute_result"
        }
      ],
      "source": [
        "rf_casual.predict(valid_x)"
      ]
    },
    {
      "cell_type": "code",
      "execution_count": 93,
      "metadata": {},
      "outputs": [
        {
          "name": "stdout",
          "output_type": "stream",
          "text": [
            "\n",
            "Regression statistics\n",
            "\n",
            "               Mean Error (ME) : -0.0017\n",
            "Root Mean Squared Error (RMSE) : 0.1887\n",
            "     Mean Absolute Error (MAE) : 0.1419\n"
          ]
        }
      ],
      "source": [
        "regressionSummary(train_y, rf_casual.predict(train_x))"
      ]
    },
    {
      "cell_type": "code",
      "execution_count": 94,
      "metadata": {},
      "outputs": [
        {
          "name": "stdout",
          "output_type": "stream",
          "text": [
            "\n",
            "Regression statistics\n",
            "\n",
            "               Mean Error (ME) : 0.0034\n",
            "Root Mean Squared Error (RMSE) : 0.5221\n",
            "     Mean Absolute Error (MAE) : 0.3920\n"
          ]
        }
      ],
      "source": [
        "regressionSummary(valid_y, rf_casual.predict(valid_x))"
      ]
    },
    {
      "cell_type": "code",
      "execution_count": 95,
      "metadata": {},
      "outputs": [
        {
          "name": "stdout",
          "output_type": "stream",
          "text": [
            "0.1886833918467521\n",
            "0.5220719102156863\n"
          ]
        }
      ],
      "source": [
        "print(np.sqrt(mean_squared_error(train_y, rf_casual.predict(train_x))))\n",
        "print(np.sqrt(mean_squared_error(valid_y, rf_casual.predict(valid_x))))"
      ]
    },
    {
      "cell_type": "code",
      "execution_count": 96,
      "metadata": {},
      "outputs": [
        {
          "data": {
            "text/plain": [
              "0.8795071030518629"
            ]
          },
          "execution_count": 96,
          "metadata": {},
          "output_type": "execute_result"
        }
      ],
      "source": [
        "r2_score(valid_y, rf_casual.predict(valid_x))"
      ]
    },
    {
      "cell_type": "code",
      "execution_count": 97,
      "metadata": {},
      "outputs": [
        {
          "data": {
            "text/plain": [
              "<matplotlib.collections.PathCollection at 0x24284279ae0>"
            ]
          },
          "execution_count": 97,
          "metadata": {},
          "output_type": "execute_result"
        },
        {
          "data": {
            "image/png": "[encoded data removed]",
            "text/plain": [
              "<Figure size 432x288 with 1 Axes>"
            ]
          },
          "metadata": {},
          "output_type": "display_data"
        }
      ],
      "source": [
        "plt.scatter(valid_y, rf_casual.predict(valid_x))"
      ]
    },
    {
      "cell_type": "markdown",
      "metadata": {},
      "source": [
        "# Polynomial Regression of 'casual'"
      ]
    },
    {
      "cell_type": "code",
      "execution_count": 98,
      "metadata": {},
      "outputs": [],
      "source": [
        "x= dummified_df.drop('count',axis=1)\n",
        "y= hour_df['casual']"
      ]
    },
    {
      "cell_type": "code",
      "execution_count": 99,
      "metadata": {},
      "outputs": [],
      "source": [
        "poly_casual = PolynomialFeatures(degree=2, include_bias=True)\n",
        "poly_features_casual = poly_casual.fit_transform(x)"
      ]
    },
    {
      "cell_type": "code",
      "execution_count": 100,
      "metadata": {},
      "outputs": [],
      "source": [
        "train_x,valid_x, train_y, valid_y = train_test_split(poly_features_casual, y, test_size=.3, random_state=10)"
      ]
    },
    {
      "cell_type": "code",
      "execution_count": 101,
      "metadata": {},
      "outputs": [
        {
          "data": {
            "text/plain": [
              "LinearRegression()"
            ]
          },
          "execution_count": 101,
          "metadata": {},
          "output_type": "execute_result"
        }
      ],
      "source": [
        "hour_lm_casual.fit(train_x, train_y)"
      ]
    },
    {
      "cell_type": "code",
      "execution_count": 103,
      "metadata": {},
      "outputs": [
        {
          "data": {
            "text/plain": [
              "array([3.74220877, 2.14460878, 3.30913615, ..., 4.1907431 , 4.11114574,\n",
              "       3.98025054])"
            ]
          },
          "execution_count": 103,
          "metadata": {},
          "output_type": "execute_result"
        }
      ],
      "source": [
        "y_predicted_casual = hour_lm_casual.predict(valid_x)\n",
        "y_predicted_casual"
      ]
    },
    {
      "cell_type": "code",
      "execution_count": 104,
      "metadata": {},
      "outputs": [
        {
          "data": {
            "image/png": "[encoded data removed]",
            "text/plain": [
              "<Figure size 576x360 with 1 Axes>"
            ]
          },
          "metadata": {},
          "output_type": "display_data"
        }
      ],
      "source": [
        "plt.figure(figsize=(8, 5))\n",
        "plt.title(\"polynomial of casual\", size=10)\n",
        "plt.scatter(valid_y, y_predicted_casual)\n",
        "plt.show()"
      ]
    },
    {
      "cell_type": "code",
      "execution_count": 105,
      "metadata": {},
      "outputs": [
        {
          "name": "stdout",
          "output_type": "stream",
          "text": [
            "\n",
            "Regression statistics\n",
            "\n",
            "               Mean Error (ME) : 0.0000\n",
            "Root Mean Squared Error (RMSE) : 0.7806\n",
            "     Mean Absolute Error (MAE) : 0.6001\n"
          ]
        }
      ],
      "source": [
        "regressionSummary(train_y,hour_lm_casual.predict(train_x) )"
      ]
    },
    {
      "cell_type": "code",
      "execution_count": 106,
      "metadata": {},
      "outputs": [
        {
          "name": "stdout",
          "output_type": "stream",
          "text": [
            "\n",
            "Regression statistics\n",
            "\n",
            "               Mean Error (ME) : -0.0108\n",
            "Root Mean Squared Error (RMSE) : 0.8045\n",
            "     Mean Absolute Error (MAE) : 0.6160\n"
          ]
        }
      ],
      "source": [
        "regressionSummary(valid_y, y_predicted_casual)"
      ]
    },
    {
      "cell_type": "code",
      "execution_count": 107,
      "metadata": {},
      "outputs": [
        {
          "data": {
            "text/plain": [
              "0.7139070218812884"
            ]
          },
          "execution_count": 107,
          "metadata": {},
          "output_type": "execute_result"
        }
      ],
      "source": [
        "r2_score(valid_y, y_predicted_casual)"
      ]
    },
    {
      "cell_type": "markdown",
      "metadata": {
        "id": "ImXfJOwsGFW0"
      },
      "source": [
        "# Linear regression for \"registered\""
      ]
    },
    {
      "cell_type": "code",
      "execution_count": 108,
      "metadata": {},
      "outputs": [
        {
          "data": {
            "text/plain": [
              "1.5579042256481028"
            ]
          },
          "execution_count": 108,
          "metadata": {},
          "output_type": "execute_result"
        }
      ],
      "source": [
        "hour_df['registered'].skew()"
      ]
    },
    {
      "cell_type": "code",
      "execution_count": 109,
      "metadata": {},
      "outputs": [],
      "source": [
        "hour_df['registered'] = np.log(hour_df['registered'] + 1)"
      ]
    },
    {
      "cell_type": "code",
      "execution_count": 110,
      "metadata": {
        "id": "lBuIbzBTGFW0"
      },
      "outputs": [],
      "source": [
        "x= dummified_df.drop('count',axis=1)\n",
        "y= hour_df['registered']"
      ]
    },
    {
      "cell_type": "code",
      "execution_count": 111,
      "metadata": {
        "id": "-pk1ztSeGFW0"
      },
      "outputs": [],
      "source": [
        "train_x,valid_x, train_y, valid_y = train_test_split(x, y, test_size=.3, random_state=10)"
      ]
    },
    {
      "cell_type": "code",
      "execution_count": 112,
      "metadata": {
        "colab": {
          "base_uri": "https://localhost:8080/",
          "height": 0
        },
        "id": "FxZWq0rzGFW0",
        "outputId": "b7eb9e0b-18dc-4ccd-d6a3-6f0ae630aa57"
      },
      "outputs": [
        {
          "data": {
            "text/plain": [
              "LinearRegression()"
            ]
          },
          "execution_count": 112,
          "metadata": {},
          "output_type": "execute_result"
        }
      ],
      "source": [
        "hour_lm_registered=LinearRegression()\n",
        "hour_lm_registered.fit(train_x,train_y)"
      ]
    },
    {
      "cell_type": "code",
      "execution_count": 113,
      "metadata": {},
      "outputs": [
        {
          "data": {
            "text/plain": [
              "3.2159915810226245"
            ]
          },
          "execution_count": 113,
          "metadata": {},
          "output_type": "execute_result"
        }
      ],
      "source": [
        "hour_lm_registered.intercept_"
      ]
    },
    {
      "cell_type": "code",
      "execution_count": 114,
      "metadata": {},
      "outputs": [
        {
          "data": {
            "text/plain": [
              "array([-1.66840668e-03,  9.52056494e-02, -2.24707729e-01,  1.45319980e-02,\n",
              "        2.16680331e+00, -1.30980959e+00,  2.49282139e-01, -3.73475977e-01,\n",
              "       -5.01377239e-01, -4.93677450e-01,  9.40064047e-02, -1.38457643e-01,\n",
              "       -2.29233414e-01,  1.63758716e-01])"
            ]
          },
          "execution_count": 114,
          "metadata": {},
          "output_type": "execute_result"
        }
      ],
      "source": [
        "hour_lm_registered.coef_"
      ]
    },
    {
      "cell_type": "code",
      "execution_count": 115,
      "metadata": {
        "colab": {
          "base_uri": "https://localhost:8080/",
          "height": 0
        },
        "id": "fZleV-6dGFW0",
        "outputId": "3ed31afc-5c04-47fa-d7bc-3c099f25f6ff"
      },
      "outputs": [
        {
          "name": "stdout",
          "output_type": "stream",
          "text": [
            "\n",
            "Regression statistics\n",
            "\n",
            "               Mean Error (ME) : 0.0000\n",
            "Root Mean Squared Error (RMSE) : 1.0327\n",
            "     Mean Absolute Error (MAE) : 0.8102\n"
          ]
        }
      ],
      "source": [
        "regressionSummary(train_y, hour_lm_registered.predict(train_x))"
      ]
    },
    {
      "cell_type": "code",
      "execution_count": 116,
      "metadata": {},
      "outputs": [
        {
          "data": {
            "text/plain": [
              "array([4.96310883, 4.33193841, 5.35804494, ..., 3.95467767, 4.29930845,\n",
              "       4.6457678 ])"
            ]
          },
          "execution_count": 116,
          "metadata": {},
          "output_type": "execute_result"
        }
      ],
      "source": [
        "pred_y = hour_lm_registered.predict(train_x)\n",
        "pred_y"
      ]
    },
    {
      "cell_type": "code",
      "execution_count": 117,
      "metadata": {},
      "outputs": [],
      "source": [
        "result = pd.DataFrame({'predicted': pred_y,\n",
        "                       'actual': train_y,\n",
        "                       'residuals': train_y - pred_y})"
      ]
    },
    {
      "cell_type": "code",
      "execution_count": 118,
      "metadata": {},
      "outputs": [
        {
          "data": {
            "text/html": [
              "<div>\n",
              "<style scoped>\n",
              "    .dataframe tbody tr th:only-of-type {\n",
              "        vertical-align: middle;\n",
              "    }\n",
              "\n",
              "    .dataframe tbody tr th {\n",
              "        vertical-align: top;\n",
              "    }\n",
              "\n",
              "    .dataframe thead th {\n",
              "        text-align: right;\n",
              "    }\n",
              "</style>\n",
              "<table border=\"1\" class=\"dataframe\">\n",
              "  <thead>\n",
              "    <tr style=\"text-align: right;\">\n",
              "      <th></th>\n",
              "      <th>predicted</th>\n",
              "      <th>actual</th>\n",
              "      <th>residuals</th>\n",
              "    </tr>\n",
              "  </thead>\n",
              "  <tbody>\n",
              "    <tr>\n",
              "      <th>16745</th>\n",
              "      <td>4.963109</td>\n",
              "      <td>5.342334</td>\n",
              "      <td>0.379225</td>\n",
              "    </tr>\n",
              "    <tr>\n",
              "      <th>517</th>\n",
              "      <td>4.331938</td>\n",
              "      <td>4.043051</td>\n",
              "      <td>-0.288887</td>\n",
              "    </tr>\n",
              "    <tr>\n",
              "      <th>11296</th>\n",
              "      <td>5.358045</td>\n",
              "      <td>5.533389</td>\n",
              "      <td>0.175345</td>\n",
              "    </tr>\n",
              "    <tr>\n",
              "      <th>4726</th>\n",
              "      <td>5.551551</td>\n",
              "      <td>5.579730</td>\n",
              "      <td>0.028179</td>\n",
              "    </tr>\n",
              "    <tr>\n",
              "      <th>8585</th>\n",
              "      <td>4.016580</td>\n",
              "      <td>4.779123</td>\n",
              "      <td>0.762544</td>\n",
              "    </tr>\n",
              "    <tr>\n",
              "      <th>...</th>\n",
              "      <td>...</td>\n",
              "      <td>...</td>\n",
              "      <td>...</td>\n",
              "    </tr>\n",
              "    <tr>\n",
              "      <th>4829</th>\n",
              "      <td>3.665776</td>\n",
              "      <td>1.098612</td>\n",
              "      <td>-2.567163</td>\n",
              "    </tr>\n",
              "    <tr>\n",
              "      <th>10201</th>\n",
              "      <td>2.918714</td>\n",
              "      <td>0.693147</td>\n",
              "      <td>-2.225567</td>\n",
              "    </tr>\n",
              "    <tr>\n",
              "      <th>9372</th>\n",
              "      <td>3.954678</td>\n",
              "      <td>4.709530</td>\n",
              "      <td>0.754853</td>\n",
              "    </tr>\n",
              "    <tr>\n",
              "      <th>7291</th>\n",
              "      <td>4.299308</td>\n",
              "      <td>5.147494</td>\n",
              "      <td>0.848186</td>\n",
              "    </tr>\n",
              "    <tr>\n",
              "      <th>7293</th>\n",
              "      <td>4.645768</td>\n",
              "      <td>5.463832</td>\n",
              "      <td>0.818064</td>\n",
              "    </tr>\n",
              "  </tbody>\n",
              "</table>\n",
              "<p>12165 rows × 3 columns</p>\n",
              "</div>"
            ],
            "text/plain": [
              "       predicted    actual  residuals\n",
              "16745   4.963109  5.342334   0.379225\n",
              "517     4.331938  4.043051  -0.288887\n",
              "11296   5.358045  5.533389   0.175345\n",
              "4726    5.551551  5.579730   0.028179\n",
              "8585    4.016580  4.779123   0.762544\n",
              "...          ...       ...        ...\n",
              "4829    3.665776  1.098612  -2.567163\n",
              "10201   2.918714  0.693147  -2.225567\n",
              "9372    3.954678  4.709530   0.754853\n",
              "7291    4.299308  5.147494   0.848186\n",
              "7293    4.645768  5.463832   0.818064\n",
              "\n",
              "[12165 rows x 3 columns]"
            ]
          },
          "execution_count": 118,
          "metadata": {},
          "output_type": "execute_result"
        }
      ],
      "source": [
        "result"
      ]
    },
    {
      "cell_type": "code",
      "execution_count": 119,
      "metadata": {},
      "outputs": [
        {
          "data": {
            "text/plain": [
              "(5214,)"
            ]
          },
          "execution_count": 119,
          "metadata": {},
          "output_type": "execute_result"
        }
      ],
      "source": [
        "hour_lm_predict_registered = hour_lm_registered.predict(valid_x)\n",
        "hour_lm_predict_registered.shape"
      ]
    },
    {
      "cell_type": "code",
      "execution_count": 120,
      "metadata": {},
      "outputs": [],
      "source": [
        "result = pd.DataFrame({'predicted': hour_lm_predict_registered,\n",
        "                       'actual' : valid_y,\n",
        "                       'residual': valid_y - hour_lm_predict_registered})"
      ]
    },
    {
      "cell_type": "code",
      "execution_count": 121,
      "metadata": {},
      "outputs": [
        {
          "data": {
            "text/html": [
              "<div>\n",
              "<style scoped>\n",
              "    .dataframe tbody tr th:only-of-type {\n",
              "        vertical-align: middle;\n",
              "    }\n",
              "\n",
              "    .dataframe tbody tr th {\n",
              "        vertical-align: top;\n",
              "    }\n",
              "\n",
              "    .dataframe thead th {\n",
              "        text-align: right;\n",
              "    }\n",
              "</style>\n",
              "<table border=\"1\" class=\"dataframe\">\n",
              "  <thead>\n",
              "    <tr style=\"text-align: right;\">\n",
              "      <th></th>\n",
              "      <th>predicted</th>\n",
              "      <th>actual</th>\n",
              "      <th>residual</th>\n",
              "    </tr>\n",
              "  </thead>\n",
              "  <tbody>\n",
              "    <tr>\n",
              "      <th>6557</th>\n",
              "      <td>5.702548</td>\n",
              "      <td>5.814131</td>\n",
              "      <td>0.111582</td>\n",
              "    </tr>\n",
              "    <tr>\n",
              "      <th>11737</th>\n",
              "      <td>3.793596</td>\n",
              "      <td>4.804021</td>\n",
              "      <td>1.010425</td>\n",
              "    </tr>\n",
              "    <tr>\n",
              "      <th>4952</th>\n",
              "      <td>4.079004</td>\n",
              "      <td>2.944439</td>\n",
              "      <td>-1.134565</td>\n",
              "    </tr>\n",
              "    <tr>\n",
              "      <th>2853</th>\n",
              "      <td>5.582279</td>\n",
              "      <td>5.780744</td>\n",
              "      <td>0.198465</td>\n",
              "    </tr>\n",
              "    <tr>\n",
              "      <th>3697</th>\n",
              "      <td>5.610032</td>\n",
              "      <td>4.290459</td>\n",
              "      <td>-1.319573</td>\n",
              "    </tr>\n",
              "    <tr>\n",
              "      <th>7305</th>\n",
              "      <td>2.821987</td>\n",
              "      <td>4.189655</td>\n",
              "      <td>1.367668</td>\n",
              "    </tr>\n",
              "    <tr>\n",
              "      <th>15922</th>\n",
              "      <td>3.606598</td>\n",
              "      <td>2.397895</td>\n",
              "      <td>-1.208703</td>\n",
              "    </tr>\n",
              "    <tr>\n",
              "      <th>17084</th>\n",
              "      <td>5.087507</td>\n",
              "      <td>5.347108</td>\n",
              "      <td>0.259601</td>\n",
              "    </tr>\n",
              "    <tr>\n",
              "      <th>15165</th>\n",
              "      <td>4.134733</td>\n",
              "      <td>4.394449</td>\n",
              "      <td>0.259717</td>\n",
              "    </tr>\n",
              "    <tr>\n",
              "      <th>8756</th>\n",
              "      <td>4.801481</td>\n",
              "      <td>5.187386</td>\n",
              "      <td>0.385905</td>\n",
              "    </tr>\n",
              "  </tbody>\n",
              "</table>\n",
              "</div>"
            ],
            "text/plain": [
              "       predicted    actual  residual\n",
              "6557    5.702548  5.814131  0.111582\n",
              "11737   3.793596  4.804021  1.010425\n",
              "4952    4.079004  2.944439 -1.134565\n",
              "2853    5.582279  5.780744  0.198465\n",
              "3697    5.610032  4.290459 -1.319573\n",
              "7305    2.821987  4.189655  1.367668\n",
              "15922   3.606598  2.397895 -1.208703\n",
              "17084   5.087507  5.347108  0.259601\n",
              "15165   4.134733  4.394449  0.259717\n",
              "8756    4.801481  5.187386  0.385905"
            ]
          },
          "execution_count": 121,
          "metadata": {},
          "output_type": "execute_result"
        }
      ],
      "source": [
        "result.head(10)"
      ]
    },
    {
      "cell_type": "code",
      "execution_count": 122,
      "metadata": {},
      "outputs": [
        {
          "name": "stdout",
          "output_type": "stream",
          "text": [
            "\n",
            "Regression statistics\n",
            "\n",
            "               Mean Error (ME) : 0.0000\n",
            "Root Mean Squared Error (RMSE) : 1.0327\n",
            "     Mean Absolute Error (MAE) : 0.8102\n"
          ]
        }
      ],
      "source": [
        "regressionSummary(train_y, pred_y)"
      ]
    },
    {
      "cell_type": "code",
      "execution_count": 123,
      "metadata": {},
      "outputs": [
        {
          "name": "stdout",
          "output_type": "stream",
          "text": [
            "\n",
            "Regression statistics\n",
            "\n",
            "               Mean Error (ME) : -0.0306\n",
            "Root Mean Squared Error (RMSE) : 1.0452\n",
            "     Mean Absolute Error (MAE) : 0.8255\n"
          ]
        }
      ],
      "source": [
        "regressionSummary(valid_y, hour_lm_predict_registered)"
      ]
    },
    {
      "cell_type": "code",
      "execution_count": 124,
      "metadata": {},
      "outputs": [
        {
          "data": {
            "text/plain": [
              "0.44546729964245524"
            ]
          },
          "execution_count": 124,
          "metadata": {},
          "output_type": "execute_result"
        }
      ],
      "source": [
        "adjusted_r2_score(train_y, pred_y, hour_lm_registered)"
      ]
    },
    {
      "cell_type": "code",
      "execution_count": 125,
      "metadata": {},
      "outputs": [
        {
          "data": {
            "text/plain": [
              "0.4583613060643249"
            ]
          },
          "execution_count": 125,
          "metadata": {},
          "output_type": "execute_result"
        }
      ],
      "source": [
        "adjusted_r2_score(valid_y, hour_lm_predict_registered, hour_lm_registered)"
      ]
    },
    {
      "cell_type": "code",
      "execution_count": 126,
      "metadata": {},
      "outputs": [
        {
          "data": {
            "text/plain": [
              "0.4598159275327882"
            ]
          },
          "execution_count": 126,
          "metadata": {},
          "output_type": "execute_result"
        }
      ],
      "source": [
        "r2_score(valid_y, hour_lm_registered.predict(valid_x))"
      ]
    },
    {
      "cell_type": "code",
      "execution_count": 127,
      "metadata": {
        "colab": {
          "base_uri": "https://localhost:8080/",
          "height": 282
        },
        "id": "LsrxTH9-GFW1",
        "outputId": "ad4e5bcb-369e-4cd3-e403-0bb1678147da"
      },
      "outputs": [
        {
          "data": {
            "text/plain": [
              "<matplotlib.collections.PathCollection at 0x242c232d210>"
            ]
          },
          "execution_count": 127,
          "metadata": {},
          "output_type": "execute_result"
        },
        {
          "data": {
            "image/png": "[encoded data removed]",
            "text/plain": [
              "<Figure size 432x288 with 1 Axes>"
            ]
          },
          "metadata": {},
          "output_type": "display_data"
        }
      ],
      "source": [
        "plt.scatter(result['actual'], result['predicted'])"
      ]
    },
    {
      "cell_type": "code",
      "execution_count": 128,
      "metadata": {},
      "outputs": [
        {
          "name": "stdout",
          "output_type": "stream",
          "text": [
            "                                                    Coefficient value of registered\n",
            "month                                                                     -0.001668\n",
            "hour                                                                       0.095206\n",
            "holiday                                                                   -0.224708\n",
            "weekday                                                                    0.014532\n",
            "temp                                                                       2.166803\n",
            "humidity                                                                  -1.309810\n",
            "windspeed                                                                  0.249282\n",
            "season_spring                                                             -0.373476\n",
            "season_summer                                                             -0.501377\n",
            "season_winter                                                             -0.493677\n",
            "workingday_1                                                               0.094006\n",
            "weather_situation_Heavy Rain + Ice Pallets + Th...                        -0.138458\n",
            "weather_situation_Light Snow, Light Rain + Thun...                        -0.229233\n",
            "weather_situation_Mist + Cloudy, Mist + Broken ...                         0.163759\n"
          ]
        }
      ],
      "source": [
        "feature_names_registered = x.columns\n",
        "model_coefficients_2 = hour_lm_registered.coef_\n",
        "\n",
        "coefficients_df_2 = pd.DataFrame(data = model_coefficients_2, \n",
        "                              index = feature_names_registered, \n",
        "                              columns = ['Coefficient value of registered'])\n",
        "print(coefficients_df_2)"
      ]
    },
    {
      "cell_type": "code",
      "execution_count": 129,
      "metadata": {},
      "outputs": [],
      "source": [
        "coefficients_df_2.sort_values(by = 'Coefficient value of registered', ascending = False, inplace = True)"
      ]
    },
    {
      "cell_type": "code",
      "execution_count": 130,
      "metadata": {},
      "outputs": [
        {
          "data": {
            "text/plain": [
              "<AxesSubplot:>"
            ]
          },
          "execution_count": 130,
          "metadata": {},
          "output_type": "execute_result"
        },
        {
          "data": {
            "image/png": "[encoded data removed]",
            "text/plain": [
              "<Figure size 432x288 with 1 Axes>"
            ]
          },
          "metadata": {},
          "output_type": "display_data"
        }
      ],
      "source": [
        "coefficients_df_2.plot(kind = 'barh')"
      ]
    },
    {
      "cell_type": "markdown",
      "metadata": {},
      "source": [
        "# Random Forest of 'Registered'"
      ]
    },
    {
      "cell_type": "code",
      "execution_count": 131,
      "metadata": {},
      "outputs": [],
      "source": [
        "excluded_columns_3 = ['atemp','count','casual']\n",
        "hour_df_final_3 = hour_df.drop(excluded_columns_3, axis=1)"
      ]
    },
    {
      "cell_type": "code",
      "execution_count": 132,
      "metadata": {},
      "outputs": [
        {
          "data": {
            "text/html": [
              "<div>\n",
              "<style scoped>\n",
              "    .dataframe tbody tr th:only-of-type {\n",
              "        vertical-align: middle;\n",
              "    }\n",
              "\n",
              "    .dataframe tbody tr th {\n",
              "        vertical-align: top;\n",
              "    }\n",
              "\n",
              "    .dataframe thead th {\n",
              "        text-align: right;\n",
              "    }\n",
              "</style>\n",
              "<table border=\"1\" class=\"dataframe\">\n",
              "  <thead>\n",
              "    <tr style=\"text-align: right;\">\n",
              "      <th></th>\n",
              "      <th>month</th>\n",
              "      <th>hour</th>\n",
              "      <th>holiday</th>\n",
              "      <th>weekday</th>\n",
              "      <th>temp</th>\n",
              "      <th>humidity</th>\n",
              "      <th>windspeed</th>\n",
              "      <th>registered</th>\n",
              "      <th>season_spring</th>\n",
              "      <th>season_summer</th>\n",
              "      <th>season_winter</th>\n",
              "      <th>workingday_1</th>\n",
              "      <th>weather_situation_Heavy Rain + Ice Pallets + Thunderstorm + Mist, Snow + Fog</th>\n",
              "      <th>weather_situation_Light Snow, Light Rain + Thunderstorm + Scattered clouds, Light Rain + Scattered clouds</th>\n",
              "      <th>weather_situation_Mist + Cloudy, Mist + Broken clouds, Mist + Few clouds, Mist</th>\n",
              "    </tr>\n",
              "  </thead>\n",
              "  <tbody>\n",
              "    <tr>\n",
              "      <th>0</th>\n",
              "      <td>1</td>\n",
              "      <td>0</td>\n",
              "      <td>0</td>\n",
              "      <td>6</td>\n",
              "      <td>0.24</td>\n",
              "      <td>0.81</td>\n",
              "      <td>0.0000</td>\n",
              "      <td>2.639057</td>\n",
              "      <td>0</td>\n",
              "      <td>0</td>\n",
              "      <td>1</td>\n",
              "      <td>0</td>\n",
              "      <td>0</td>\n",
              "      <td>0</td>\n",
              "      <td>0</td>\n",
              "    </tr>\n",
              "    <tr>\n",
              "      <th>1</th>\n",
              "      <td>1</td>\n",
              "      <td>1</td>\n",
              "      <td>0</td>\n",
              "      <td>6</td>\n",
              "      <td>0.22</td>\n",
              "      <td>0.80</td>\n",
              "      <td>0.0000</td>\n",
              "      <td>3.496508</td>\n",
              "      <td>0</td>\n",
              "      <td>0</td>\n",
              "      <td>1</td>\n",
              "      <td>0</td>\n",
              "      <td>0</td>\n",
              "      <td>0</td>\n",
              "      <td>0</td>\n",
              "    </tr>\n",
              "    <tr>\n",
              "      <th>2</th>\n",
              "      <td>1</td>\n",
              "      <td>2</td>\n",
              "      <td>0</td>\n",
              "      <td>6</td>\n",
              "      <td>0.22</td>\n",
              "      <td>0.80</td>\n",
              "      <td>0.0000</td>\n",
              "      <td>3.332205</td>\n",
              "      <td>0</td>\n",
              "      <td>0</td>\n",
              "      <td>1</td>\n",
              "      <td>0</td>\n",
              "      <td>0</td>\n",
              "      <td>0</td>\n",
              "      <td>0</td>\n",
              "    </tr>\n",
              "    <tr>\n",
              "      <th>3</th>\n",
              "      <td>1</td>\n",
              "      <td>3</td>\n",
              "      <td>0</td>\n",
              "      <td>6</td>\n",
              "      <td>0.24</td>\n",
              "      <td>0.75</td>\n",
              "      <td>0.0000</td>\n",
              "      <td>2.397895</td>\n",
              "      <td>0</td>\n",
              "      <td>0</td>\n",
              "      <td>1</td>\n",
              "      <td>0</td>\n",
              "      <td>0</td>\n",
              "      <td>0</td>\n",
              "      <td>0</td>\n",
              "    </tr>\n",
              "    <tr>\n",
              "      <th>4</th>\n",
              "      <td>1</td>\n",
              "      <td>4</td>\n",
              "      <td>0</td>\n",
              "      <td>6</td>\n",
              "      <td>0.24</td>\n",
              "      <td>0.75</td>\n",
              "      <td>0.0000</td>\n",
              "      <td>0.693147</td>\n",
              "      <td>0</td>\n",
              "      <td>0</td>\n",
              "      <td>1</td>\n",
              "      <td>0</td>\n",
              "      <td>0</td>\n",
              "      <td>0</td>\n",
              "      <td>0</td>\n",
              "    </tr>\n",
              "    <tr>\n",
              "      <th>...</th>\n",
              "      <td>...</td>\n",
              "      <td>...</td>\n",
              "      <td>...</td>\n",
              "      <td>...</td>\n",
              "      <td>...</td>\n",
              "      <td>...</td>\n",
              "      <td>...</td>\n",
              "      <td>...</td>\n",
              "      <td>...</td>\n",
              "      <td>...</td>\n",
              "      <td>...</td>\n",
              "      <td>...</td>\n",
              "      <td>...</td>\n",
              "      <td>...</td>\n",
              "      <td>...</td>\n",
              "    </tr>\n",
              "    <tr>\n",
              "      <th>17374</th>\n",
              "      <td>12</td>\n",
              "      <td>19</td>\n",
              "      <td>0</td>\n",
              "      <td>1</td>\n",
              "      <td>0.26</td>\n",
              "      <td>0.60</td>\n",
              "      <td>0.1642</td>\n",
              "      <td>4.691348</td>\n",
              "      <td>0</td>\n",
              "      <td>0</td>\n",
              "      <td>1</td>\n",
              "      <td>1</td>\n",
              "      <td>0</td>\n",
              "      <td>0</td>\n",
              "      <td>1</td>\n",
              "    </tr>\n",
              "    <tr>\n",
              "      <th>17375</th>\n",
              "      <td>12</td>\n",
              "      <td>20</td>\n",
              "      <td>0</td>\n",
              "      <td>1</td>\n",
              "      <td>0.26</td>\n",
              "      <td>0.60</td>\n",
              "      <td>0.1642</td>\n",
              "      <td>4.406719</td>\n",
              "      <td>0</td>\n",
              "      <td>0</td>\n",
              "      <td>1</td>\n",
              "      <td>1</td>\n",
              "      <td>0</td>\n",
              "      <td>0</td>\n",
              "      <td>1</td>\n",
              "    </tr>\n",
              "    <tr>\n",
              "      <th>17376</th>\n",
              "      <td>12</td>\n",
              "      <td>21</td>\n",
              "      <td>0</td>\n",
              "      <td>1</td>\n",
              "      <td>0.26</td>\n",
              "      <td>0.60</td>\n",
              "      <td>0.1642</td>\n",
              "      <td>4.430817</td>\n",
              "      <td>0</td>\n",
              "      <td>0</td>\n",
              "      <td>1</td>\n",
              "      <td>1</td>\n",
              "      <td>0</td>\n",
              "      <td>0</td>\n",
              "      <td>0</td>\n",
              "    </tr>\n",
              "    <tr>\n",
              "      <th>17377</th>\n",
              "      <td>12</td>\n",
              "      <td>22</td>\n",
              "      <td>0</td>\n",
              "      <td>1</td>\n",
              "      <td>0.26</td>\n",
              "      <td>0.56</td>\n",
              "      <td>0.1343</td>\n",
              "      <td>3.891820</td>\n",
              "      <td>0</td>\n",
              "      <td>0</td>\n",
              "      <td>1</td>\n",
              "      <td>1</td>\n",
              "      <td>0</td>\n",
              "      <td>0</td>\n",
              "      <td>0</td>\n",
              "    </tr>\n",
              "    <tr>\n",
              "      <th>17378</th>\n",
              "      <td>12</td>\n",
              "      <td>23</td>\n",
              "      <td>0</td>\n",
              "      <td>1</td>\n",
              "      <td>0.26</td>\n",
              "      <td>0.65</td>\n",
              "      <td>0.1343</td>\n",
              "      <td>3.637586</td>\n",
              "      <td>0</td>\n",
              "      <td>0</td>\n",
              "      <td>1</td>\n",
              "      <td>1</td>\n",
              "      <td>0</td>\n",
              "      <td>0</td>\n",
              "      <td>0</td>\n",
              "    </tr>\n",
              "  </tbody>\n",
              "</table>\n",
              "<p>17379 rows × 15 columns</p>\n",
              "</div>"
            ],
            "text/plain": [
              "       month  hour  holiday  weekday  temp  humidity  windspeed  registered  \\\n",
              "0          1     0        0        6  0.24      0.81     0.0000    2.639057   \n",
              "1          1     1        0        6  0.22      0.80     0.0000    3.496508   \n",
              "2          1     2        0        6  0.22      0.80     0.0000    3.332205   \n",
              "3          1     3        0        6  0.24      0.75     0.0000    2.397895   \n",
              "4          1     4        0        6  0.24      0.75     0.0000    0.693147   \n",
              "...      ...   ...      ...      ...   ...       ...        ...         ...   \n",
              "17374     12    19        0        1  0.26      0.60     0.1642    4.691348   \n",
              "17375     12    20        0        1  0.26      0.60     0.1642    4.406719   \n",
              "17376     12    21        0        1  0.26      0.60     0.1642    4.430817   \n",
              "17377     12    22        0        1  0.26      0.56     0.1343    3.891820   \n",
              "17378     12    23        0        1  0.26      0.65     0.1343    3.637586   \n",
              "\n",
              "       season_spring  season_summer  season_winter  workingday_1  \\\n",
              "0                  0              0              1             0   \n",
              "1                  0              0              1             0   \n",
              "2                  0              0              1             0   \n",
              "3                  0              0              1             0   \n",
              "4                  0              0              1             0   \n",
              "...              ...            ...            ...           ...   \n",
              "17374              0              0              1             1   \n",
              "17375              0              0              1             1   \n",
              "17376              0              0              1             1   \n",
              "17377              0              0              1             1   \n",
              "17378              0              0              1             1   \n",
              "\n",
              "       weather_situation_Heavy Rain + Ice Pallets + Thunderstorm + Mist, Snow + Fog  \\\n",
              "0                                                      0                              \n",
              "1                                                      0                              \n",
              "2                                                      0                              \n",
              "3                                                      0                              \n",
              "4                                                      0                              \n",
              "...                                                  ...                              \n",
              "17374                                                  0                              \n",
              "17375                                                  0                              \n",
              "17376                                                  0                              \n",
              "17377                                                  0                              \n",
              "17378                                                  0                              \n",
              "\n",
              "       weather_situation_Light Snow, Light Rain + Thunderstorm + Scattered clouds, Light Rain + Scattered clouds  \\\n",
              "0                                                      0                                                           \n",
              "1                                                      0                                                           \n",
              "2                                                      0                                                           \n",
              "3                                                      0                                                           \n",
              "4                                                      0                                                           \n",
              "...                                                  ...                                                           \n",
              "17374                                                  0                                                           \n",
              "17375                                                  0                                                           \n",
              "17376                                                  0                                                           \n",
              "17377                                                  0                                                           \n",
              "17378                                                  0                                                           \n",
              "\n",
              "       weather_situation_Mist + Cloudy, Mist + Broken clouds, Mist + Few clouds, Mist  \n",
              "0                                                      0                               \n",
              "1                                                      0                               \n",
              "2                                                      0                               \n",
              "3                                                      0                               \n",
              "4                                                      0                               \n",
              "...                                                  ...                               \n",
              "17374                                                  1                               \n",
              "17375                                                  1                               \n",
              "17376                                                  0                               \n",
              "17377                                                  0                               \n",
              "17378                                                  0                               \n",
              "\n",
              "[17379 rows x 15 columns]"
            ]
          },
          "execution_count": 132,
          "metadata": {},
          "output_type": "execute_result"
        }
      ],
      "source": [
        "dummified_df_3 = pd.get_dummies(hour_df_final_3, columns = ['season', 'workingday', 'weather_situation'], drop_first = True)\n",
        "dummified_df_3"
      ]
    },
    {
      "cell_type": "code",
      "execution_count": 133,
      "metadata": {},
      "outputs": [],
      "source": [
        "x= dummified_df_3.drop('registered',axis=1)\n",
        "y= hour_df_final_3['registered']"
      ]
    },
    {
      "cell_type": "code",
      "execution_count": 134,
      "metadata": {},
      "outputs": [
        {
          "data": {
            "text/plain": [
              "RandomForestRegressor(n_estimators=500, random_state=1)"
            ]
          },
          "execution_count": 134,
          "metadata": {},
          "output_type": "execute_result"
        }
      ],
      "source": [
        "rf_registered=RandomForestRegressor(random_state=1, n_estimators=500)\n",
        "rf_registered.fit(train_x, train_y)"
      ]
    },
    {
      "cell_type": "code",
      "execution_count": 135,
      "metadata": {},
      "outputs": [
        {
          "data": {
            "text/plain": [
              "array([1.95818314e-02, 7.32272347e-01, 3.01403930e-03, 1.40335154e-02,\n",
              "       7.44271544e-02, 2.82663398e-02, 1.74359064e-02, 1.51629849e-03,\n",
              "       7.75515556e-04, 1.19055618e-02, 8.03733152e-02, 3.32522512e-06,\n",
              "       1.36318268e-02, 2.76302353e-03])"
            ]
          },
          "execution_count": 135,
          "metadata": {},
          "output_type": "execute_result"
        }
      ],
      "source": [
        "rf_registered.feature_importances_"
      ]
    },
    {
      "cell_type": "code",
      "execution_count": 136,
      "metadata": {},
      "outputs": [],
      "source": [
        "importance = rf_registered.feature_importances_\n",
        "std = np.std([tree.feature_importances_ for tree in rf_registered.estimators_], axis =0)"
      ]
    },
    {
      "cell_type": "code",
      "execution_count": 137,
      "metadata": {},
      "outputs": [
        {
          "name": "stdout",
          "output_type": "stream",
          "text": [
            "                                              feature  importance       std\n",
            "1                                                hour    0.732272  0.007889\n",
            "10                                       workingday_1    0.080373  0.007388\n",
            "4                                                temp    0.074427  0.005103\n",
            "5                                            humidity    0.028266  0.004363\n",
            "0                                               month    0.019582  0.002284\n",
            "6                                           windspeed    0.017436  0.001057\n",
            "3                                             weekday    0.014034  0.001168\n",
            "12  weather_situation_Light Snow, Light Rain + Thu...    0.013632  0.002207\n",
            "9                                       season_winter    0.011906  0.003450\n",
            "2                                             holiday    0.003014  0.000578\n",
            "13  weather_situation_Mist + Cloudy, Mist + Broken...    0.002763  0.000370\n",
            "7                                       season_spring    0.001516  0.000448\n",
            "8                                       season_summer    0.000776  0.000202\n",
            "11  weather_situation_Heavy Rain + Ice Pallets + T...    0.000003  0.000016\n"
          ]
        }
      ],
      "source": [
        "df = pd.DataFrame({'feature' : train_x.columns,\n",
        "                   'importance': importance,\n",
        "                   'std'        :std})\n",
        "print(df.sort_values('importance', ascending = False))"
      ]
    },
    {
      "cell_type": "code",
      "execution_count": 138,
      "metadata": {},
      "outputs": [
        {
          "data": {
            "text/plain": [
              "Text(0.5, 1.0, 'Visualizing Important Features')"
            ]
          },
          "execution_count": 138,
          "metadata": {},
          "output_type": "execute_result"
        },
        {
          "data": {
            "image/png": "[encoded data removed]",
            "text/plain": [
              "<Figure size 1080x720 with 1 Axes>"
            ]
          },
          "metadata": {},
          "output_type": "display_data"
        }
      ],
      "source": [
        "feature_imp = pd.Series(rf_registered.feature_importances_, index= train_x.columns).sort_values(ascending=False)\n",
        "plt.figure(figsize = (15, 10))\n",
        "sns.barplot(x=feature_imp[:20], y=feature_imp[:20].index)\n",
        "plt.xlabel('Feature Importance Score')\n",
        "plt.ylabel('Features')\n",
        "plt.title(\"Visualizing Important Features\")"
      ]
    },
    {
      "cell_type": "code",
      "execution_count": 139,
      "metadata": {},
      "outputs": [
        {
          "data": {
            "text/plain": [
              "array([6.08565191, 4.95085069, 3.22630101, ..., 5.19563225, 4.8960243 ,\n",
              "       4.95143367])"
            ]
          },
          "execution_count": 139,
          "metadata": {},
          "output_type": "execute_result"
        }
      ],
      "source": [
        "rf_registered.predict(valid_x)"
      ]
    },
    {
      "cell_type": "code",
      "execution_count": 140,
      "metadata": {},
      "outputs": [
        {
          "name": "stdout",
          "output_type": "stream",
          "text": [
            "\n",
            "Regression statistics\n",
            "\n",
            "               Mean Error (ME) : -0.0009\n",
            "Root Mean Squared Error (RMSE) : 0.1433\n",
            "     Mean Absolute Error (MAE) : 0.1077\n"
          ]
        }
      ],
      "source": [
        "regressionSummary(train_y, rf_registered.predict(train_x))"
      ]
    },
    {
      "cell_type": "code",
      "execution_count": 141,
      "metadata": {},
      "outputs": [
        {
          "name": "stdout",
          "output_type": "stream",
          "text": [
            "\n",
            "Regression statistics\n",
            "\n",
            "               Mean Error (ME) : -0.0047\n",
            "Root Mean Squared Error (RMSE) : 0.3996\n",
            "     Mean Absolute Error (MAE) : 0.3005\n"
          ]
        }
      ],
      "source": [
        "regressionSummary(valid_y, rf_registered.predict(valid_x))"
      ]
    },
    {
      "cell_type": "code",
      "execution_count": 142,
      "metadata": {},
      "outputs": [
        {
          "name": "stdout",
          "output_type": "stream",
          "text": [
            "0.14330557868023203\n",
            "0.3995593736634383\n"
          ]
        }
      ],
      "source": [
        "print(np.sqrt(mean_squared_error(train_y, rf_registered.predict(train_x))))\n",
        "print(np.sqrt(mean_squared_error(valid_y, rf_registered.predict(valid_x))))"
      ]
    },
    {
      "cell_type": "code",
      "execution_count": 143,
      "metadata": {},
      "outputs": [
        {
          "data": {
            "text/plain": [
              "0.9210526471974302"
            ]
          },
          "execution_count": 143,
          "metadata": {},
          "output_type": "execute_result"
        }
      ],
      "source": [
        "r2_score(valid_y, rf_registered.predict(valid_x))"
      ]
    },
    {
      "cell_type": "code",
      "execution_count": 144,
      "metadata": {},
      "outputs": [
        {
          "data": {
            "text/plain": [
              "<matplotlib.collections.PathCollection at 0x242c2560370>"
            ]
          },
          "execution_count": 144,
          "metadata": {},
          "output_type": "execute_result"
        },
        {
          "data": {
            "image/png": "[encoded data removed]",
            "text/plain": [
              "<Figure size 432x288 with 1 Axes>"
            ]
          },
          "metadata": {},
          "output_type": "display_data"
        }
      ],
      "source": [
        "plt.scatter(valid_y, rf_registered.predict(valid_x))"
      ]
    },
    {
      "cell_type": "markdown",
      "metadata": {},
      "source": [
        "# Polynomial Regression of 'registered'"
      ]
    },
    {
      "cell_type": "code",
      "execution_count": 145,
      "metadata": {},
      "outputs": [],
      "source": [
        "x= dummified_df.drop('count',axis=1)\n",
        "y= hour_df['registered']"
      ]
    },
    {
      "cell_type": "code",
      "execution_count": 146,
      "metadata": {},
      "outputs": [],
      "source": [
        "poly_registered = PolynomialFeatures(degree=2, include_bias=True)\n",
        "poly_features_registered = poly_registered.fit_transform(x)"
      ]
    },
    {
      "cell_type": "code",
      "execution_count": 147,
      "metadata": {},
      "outputs": [],
      "source": [
        "train_x,valid_x, train_y, valid_y = train_test_split(poly_features_registered, y, test_size=.3, random_state=10)"
      ]
    },
    {
      "cell_type": "code",
      "execution_count": 148,
      "metadata": {},
      "outputs": [
        {
          "data": {
            "text/plain": [
              "LinearRegression()"
            ]
          },
          "execution_count": 148,
          "metadata": {},
          "output_type": "execute_result"
        }
      ],
      "source": [
        "hour_lm_registered.fit(train_x, train_y)"
      ]
    },
    {
      "cell_type": "code",
      "execution_count": 149,
      "metadata": {},
      "outputs": [],
      "source": [
        "y_predicted_registered = hour_lm_registered.predict(valid_x)"
      ]
    },
    {
      "cell_type": "code",
      "execution_count": 150,
      "metadata": {},
      "outputs": [
        {
          "data": {
            "image/png": "[encoded data removed]",
            "text/plain": [
              "<Figure size 576x360 with 1 Axes>"
            ]
          },
          "metadata": {},
          "output_type": "display_data"
        }
      ],
      "source": [
        "plt.figure(figsize=(8, 5))\n",
        "plt.title(\"polynomial of registered\", size=10)\n",
        "plt.scatter(valid_y, y_predicted_registered)\n",
        "plt.show()"
      ]
    },
    {
      "cell_type": "code",
      "execution_count": 151,
      "metadata": {},
      "outputs": [
        {
          "name": "stdout",
          "output_type": "stream",
          "text": [
            "\n",
            "Regression statistics\n",
            "\n",
            "               Mean Error (ME) : -0.0000\n",
            "Root Mean Squared Error (RMSE) : 0.8845\n",
            "     Mean Absolute Error (MAE) : 0.6681\n"
          ]
        }
      ],
      "source": [
        "regressionSummary(train_y,hour_lm_registered.predict(train_x) )"
      ]
    },
    {
      "cell_type": "code",
      "execution_count": 152,
      "metadata": {},
      "outputs": [
        {
          "name": "stdout",
          "output_type": "stream",
          "text": [
            "\n",
            "Regression statistics\n",
            "\n",
            "               Mean Error (ME) : -0.0252\n",
            "Root Mean Squared Error (RMSE) : 0.9134\n",
            "     Mean Absolute Error (MAE) : 0.6937\n"
          ]
        }
      ],
      "source": [
        "regressionSummary(valid_y, y_predicted_registered)"
      ]
    },
    {
      "cell_type": "code",
      "execution_count": 153,
      "metadata": {},
      "outputs": [
        {
          "data": {
            "text/plain": [
              "0.5874081747170266"
            ]
          },
          "execution_count": 153,
          "metadata": {},
          "output_type": "execute_result"
        }
      ],
      "source": [
        "r2_score(valid_y, y_predicted_registered)"
      ]
    }
  ],
  "metadata": {
    "colab": {
      "name": "MODELING.ipynb",
      "provenance": []
    },
    "kernelspec": {
      "display_name": "Python 3.10.2 64-bit",
      "language": "python",
      "name": "python3"
    },
    "language_info": {
      "codemirror_mode": {
        "name": "ipython",
        "version": 3
      },
      "file_extension": ".py",
      "mimetype": "text/x-python",
      "name": "python",
      "nbconvert_exporter": "python",
      "pygments_lexer": "ipython3",
      "version": "3.10.2"
    },
    "orig_nbformat": 4,
    "vscode": {
      "interpreter": {
        "hash": "746d40d477732a862d7b5963b6ae263f83f1fd55223502576fa108836da73232"
      }
    }
  },
  "nbformat": 4,
  "nbformat_minor": 0
}
